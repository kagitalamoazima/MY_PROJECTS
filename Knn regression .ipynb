{
 "cells": [
  {
   "cell_type": "raw",
   "metadata": {},
   "source": [
    "# Add cells below each question to answer\n",
    "\n",
    "Questions sequentially carry 15 + 5 + 5 + 5 marks "
   ]
  },
  {
   "cell_type": "raw",
   "metadata": {},
   "source": [
    "1\n",
    "Read the data.csv file. Perform EDA. \n",
    "\n",
    "Evaluation will consider types of analysis and demonstration of concepts through interpretations.\n",
    "\n",
    "This is NOT a python exam so merely adding lines of python code will not get any marks."
   ]
  },
  {
   "cell_type": "code",
   "execution_count": 102,
   "metadata": {},
   "outputs": [],
   "source": [
    "import pandas as pd \n",
    "import numpy as np\n",
    "import seaborn as sns\n",
    "import matplotlib.pyplot as plt\n",
    "import math\n",
    "from sklearn.preprocessing import MinMaxScaler\n",
    "from sklearn.preprocessing import LabelEncoder\n",
    "from sklearn.model_selection import train_test_split"
   ]
  },
  {
   "cell_type": "code",
   "execution_count": 103,
   "metadata": {},
   "outputs": [
    {
     "data": {
      "text/html": [
       "<div>\n",
       "<style scoped>\n",
       "    .dataframe tbody tr th:only-of-type {\n",
       "        vertical-align: middle;\n",
       "    }\n",
       "\n",
       "    .dataframe tbody tr th {\n",
       "        vertical-align: top;\n",
       "    }\n",
       "\n",
       "    .dataframe thead th {\n",
       "        text-align: right;\n",
       "    }\n",
       "</style>\n",
       "<table border=\"1\" class=\"dataframe\">\n",
       "  <thead>\n",
       "    <tr style=\"text-align: right;\">\n",
       "      <th></th>\n",
       "      <th>X1</th>\n",
       "      <th>X2</th>\n",
       "      <th>X3</th>\n",
       "      <th>X4</th>\n",
       "      <th>X5</th>\n",
       "      <th>X6</th>\n",
       "      <th>X7</th>\n",
       "      <th>X8</th>\n",
       "      <th>X9</th>\n",
       "      <th>X10</th>\n",
       "      <th>X11</th>\n",
       "      <th>X12</th>\n",
       "      <th>y</th>\n",
       "    </tr>\n",
       "  </thead>\n",
       "  <tbody>\n",
       "    <tr>\n",
       "      <th>0</th>\n",
       "      <td>FDA15</td>\n",
       "      <td>9.30</td>\n",
       "      <td>Low Fat</td>\n",
       "      <td>0.016047</td>\n",
       "      <td>Dairy</td>\n",
       "      <td>249.8</td>\n",
       "      <td>OUT049</td>\n",
       "      <td>1999</td>\n",
       "      <td>Medium</td>\n",
       "      <td>Tier 2</td>\n",
       "      <td>Supermarket Type1</td>\n",
       "      <td>3735.1380</td>\n",
       "      <td>11.5</td>\n",
       "    </tr>\n",
       "    <tr>\n",
       "      <th>1</th>\n",
       "      <td>DRC01</td>\n",
       "      <td>5.92</td>\n",
       "      <td>Regular</td>\n",
       "      <td>0.019278</td>\n",
       "      <td>Soft Drinks</td>\n",
       "      <td>48.3</td>\n",
       "      <td>OUT018</td>\n",
       "      <td>2009</td>\n",
       "      <td>Medium</td>\n",
       "      <td>Tier 2</td>\n",
       "      <td>Supermarket Type2</td>\n",
       "      <td>443.4228</td>\n",
       "      <td>14.3</td>\n",
       "    </tr>\n",
       "    <tr>\n",
       "      <th>2</th>\n",
       "      <td>FDN15</td>\n",
       "      <td>17.50</td>\n",
       "      <td>Low Fat</td>\n",
       "      <td>0.016760</td>\n",
       "      <td>Meat</td>\n",
       "      <td>141.6</td>\n",
       "      <td>OUT049</td>\n",
       "      <td>1999</td>\n",
       "      <td>Medium</td>\n",
       "      <td>Tier 2</td>\n",
       "      <td>Supermarket Type1</td>\n",
       "      <td>2097.2700</td>\n",
       "      <td>14.5</td>\n",
       "    </tr>\n",
       "    <tr>\n",
       "      <th>3</th>\n",
       "      <td>FDX07</td>\n",
       "      <td>19.20</td>\n",
       "      <td>Regular</td>\n",
       "      <td>0.000000</td>\n",
       "      <td>Fruits and Vegetables</td>\n",
       "      <td>182.1</td>\n",
       "      <td>OUT010</td>\n",
       "      <td>1998</td>\n",
       "      <td>NaN</td>\n",
       "      <td>NaN</td>\n",
       "      <td>Grocery Store</td>\n",
       "      <td>732.3800</td>\n",
       "      <td>13.6</td>\n",
       "    </tr>\n",
       "    <tr>\n",
       "      <th>4</th>\n",
       "      <td>NCD19</td>\n",
       "      <td>8.93</td>\n",
       "      <td>Low Fat</td>\n",
       "      <td>0.000000</td>\n",
       "      <td>Household</td>\n",
       "      <td>53.9</td>\n",
       "      <td>OUT013</td>\n",
       "      <td>1987</td>\n",
       "      <td>High</td>\n",
       "      <td>Tier 3</td>\n",
       "      <td>Supermarket Type1</td>\n",
       "      <td>994.7052</td>\n",
       "      <td>14.1</td>\n",
       "    </tr>\n",
       "  </tbody>\n",
       "</table>\n",
       "</div>"
      ],
      "text/plain": [
       "      X1     X2       X3        X4                     X5     X6      X7  \\\n",
       "0  FDA15   9.30  Low Fat  0.016047                  Dairy  249.8  OUT049   \n",
       "1  DRC01   5.92  Regular  0.019278            Soft Drinks   48.3  OUT018   \n",
       "2  FDN15  17.50  Low Fat  0.016760                   Meat  141.6  OUT049   \n",
       "3  FDX07  19.20  Regular  0.000000  Fruits and Vegetables  182.1  OUT010   \n",
       "4  NCD19   8.93  Low Fat  0.000000              Household   53.9  OUT013   \n",
       "\n",
       "     X8      X9     X10                X11        X12     y  \n",
       "0  1999  Medium  Tier 2  Supermarket Type1  3735.1380  11.5  \n",
       "1  2009  Medium  Tier 2  Supermarket Type2   443.4228  14.3  \n",
       "2  1999  Medium  Tier 2  Supermarket Type1  2097.2700  14.5  \n",
       "3  1998     NaN     NaN      Grocery Store   732.3800  13.6  \n",
       "4  1987    High  Tier 3  Supermarket Type1   994.7052  14.1  "
      ]
     },
     "execution_count": 103,
     "metadata": {},
     "output_type": "execute_result"
    }
   ],
   "source": [
    "df=pd.read_csv(\"data - data.csv\")#Reading the csv format file\n",
    "df.head() #gives the first 5 rows in the dataset."
   ]
  },
  {
   "cell_type": "code",
   "execution_count": 104,
   "metadata": {},
   "outputs": [
    {
     "data": {
      "text/plain": [
       "X1      object\n",
       "X2     float64\n",
       "X3      object\n",
       "X4     float64\n",
       "X5      object\n",
       "X6     float64\n",
       "X7      object\n",
       "X8       int64\n",
       "X9      object\n",
       "X10     object\n",
       "X11     object\n",
       "X12    float64\n",
       "y      float64\n",
       "dtype: object"
      ]
     },
     "execution_count": 104,
     "metadata": {},
     "output_type": "execute_result"
    }
   ],
   "source": [
    "df.dtypes"
   ]
  },
  {
   "cell_type": "code",
   "execution_count": 105,
   "metadata": {},
   "outputs": [
    {
     "data": {
      "text/html": [
       "<div>\n",
       "<style scoped>\n",
       "    .dataframe tbody tr th:only-of-type {\n",
       "        vertical-align: middle;\n",
       "    }\n",
       "\n",
       "    .dataframe tbody tr th {\n",
       "        vertical-align: top;\n",
       "    }\n",
       "\n",
       "    .dataframe thead th {\n",
       "        text-align: right;\n",
       "    }\n",
       "</style>\n",
       "<table border=\"1\" class=\"dataframe\">\n",
       "  <thead>\n",
       "    <tr style=\"text-align: right;\">\n",
       "      <th></th>\n",
       "      <th>Product_ID</th>\n",
       "      <th>Purchased_price</th>\n",
       "      <th>Product_Type</th>\n",
       "      <th>Product_Properties</th>\n",
       "      <th>Product_Category</th>\n",
       "      <th>Product_Quantity</th>\n",
       "      <th>Store_ID</th>\n",
       "      <th>Store_Establishment_Year</th>\n",
       "      <th>Store_Size</th>\n",
       "      <th>Store_Location_Tier</th>\n",
       "      <th>Store_Type</th>\n",
       "      <th>Sales_Revenue</th>\n",
       "      <th>Sales_Price</th>\n",
       "    </tr>\n",
       "  </thead>\n",
       "  <tbody>\n",
       "    <tr>\n",
       "      <th>0</th>\n",
       "      <td>FDA15</td>\n",
       "      <td>9.30</td>\n",
       "      <td>Low Fat</td>\n",
       "      <td>0.016047</td>\n",
       "      <td>Dairy</td>\n",
       "      <td>249.8</td>\n",
       "      <td>OUT049</td>\n",
       "      <td>1999</td>\n",
       "      <td>Medium</td>\n",
       "      <td>Tier 2</td>\n",
       "      <td>Supermarket Type1</td>\n",
       "      <td>3735.1380</td>\n",
       "      <td>11.5</td>\n",
       "    </tr>\n",
       "    <tr>\n",
       "      <th>1</th>\n",
       "      <td>DRC01</td>\n",
       "      <td>5.92</td>\n",
       "      <td>Regular</td>\n",
       "      <td>0.019278</td>\n",
       "      <td>Soft Drinks</td>\n",
       "      <td>48.3</td>\n",
       "      <td>OUT018</td>\n",
       "      <td>2009</td>\n",
       "      <td>Medium</td>\n",
       "      <td>Tier 2</td>\n",
       "      <td>Supermarket Type2</td>\n",
       "      <td>443.4228</td>\n",
       "      <td>14.3</td>\n",
       "    </tr>\n",
       "    <tr>\n",
       "      <th>2</th>\n",
       "      <td>FDN15</td>\n",
       "      <td>17.50</td>\n",
       "      <td>Low Fat</td>\n",
       "      <td>0.016760</td>\n",
       "      <td>Meat</td>\n",
       "      <td>141.6</td>\n",
       "      <td>OUT049</td>\n",
       "      <td>1999</td>\n",
       "      <td>Medium</td>\n",
       "      <td>Tier 2</td>\n",
       "      <td>Supermarket Type1</td>\n",
       "      <td>2097.2700</td>\n",
       "      <td>14.5</td>\n",
       "    </tr>\n",
       "    <tr>\n",
       "      <th>3</th>\n",
       "      <td>FDX07</td>\n",
       "      <td>19.20</td>\n",
       "      <td>Regular</td>\n",
       "      <td>0.000000</td>\n",
       "      <td>Fruits and Vegetables</td>\n",
       "      <td>182.1</td>\n",
       "      <td>OUT010</td>\n",
       "      <td>1998</td>\n",
       "      <td>NaN</td>\n",
       "      <td>NaN</td>\n",
       "      <td>Grocery Store</td>\n",
       "      <td>732.3800</td>\n",
       "      <td>13.6</td>\n",
       "    </tr>\n",
       "    <tr>\n",
       "      <th>4</th>\n",
       "      <td>NCD19</td>\n",
       "      <td>8.93</td>\n",
       "      <td>Low Fat</td>\n",
       "      <td>0.000000</td>\n",
       "      <td>Household</td>\n",
       "      <td>53.9</td>\n",
       "      <td>OUT013</td>\n",
       "      <td>1987</td>\n",
       "      <td>High</td>\n",
       "      <td>Tier 3</td>\n",
       "      <td>Supermarket Type1</td>\n",
       "      <td>994.7052</td>\n",
       "      <td>14.1</td>\n",
       "    </tr>\n",
       "  </tbody>\n",
       "</table>\n",
       "</div>"
      ],
      "text/plain": [
       "  Product_ID  Purchased_price Product_Type  Product_Properties  \\\n",
       "0      FDA15             9.30      Low Fat            0.016047   \n",
       "1      DRC01             5.92      Regular            0.019278   \n",
       "2      FDN15            17.50      Low Fat            0.016760   \n",
       "3      FDX07            19.20      Regular            0.000000   \n",
       "4      NCD19             8.93      Low Fat            0.000000   \n",
       "\n",
       "        Product_Category  Product_Quantity Store_ID  Store_Establishment_Year  \\\n",
       "0                  Dairy             249.8   OUT049                      1999   \n",
       "1            Soft Drinks              48.3   OUT018                      2009   \n",
       "2                   Meat             141.6   OUT049                      1999   \n",
       "3  Fruits and Vegetables             182.1   OUT010                      1998   \n",
       "4              Household              53.9   OUT013                      1987   \n",
       "\n",
       "  Store_Size Store_Location_Tier         Store_Type  Sales_Revenue  \\\n",
       "0     Medium              Tier 2  Supermarket Type1      3735.1380   \n",
       "1     Medium              Tier 2  Supermarket Type2       443.4228   \n",
       "2     Medium              Tier 2  Supermarket Type1      2097.2700   \n",
       "3        NaN                 NaN      Grocery Store       732.3800   \n",
       "4       High              Tier 3  Supermarket Type1       994.7052   \n",
       "\n",
       "   Sales_Price  \n",
       "0         11.5  \n",
       "1         14.3  \n",
       "2         14.5  \n",
       "3         13.6  \n",
       "4         14.1  "
      ]
     },
     "execution_count": 105,
     "metadata": {},
     "output_type": "execute_result"
    }
   ],
   "source": [
    "column_names = [\n",
    "    \"Product_ID\",\n",
    "    \"Purchased_price\",\n",
    "    \"Product_Type\",\n",
    "    \"Product_Properties\",\n",
    "    \"Product_Category\",\n",
    "    \"Product_Quantity\",\n",
    "    \"Store_ID\",\n",
    "    \"Store_Establishment_Year\",\n",
    "    \"Store_Size\",\n",
    "    \"Store_Location_Tier\",\n",
    "    \"Store_Type\",\n",
    "    \"Sales_Revenue\",\n",
    "    \"Sales_Price\"\n",
    "]\n",
    "df.columns = column_names\n",
    "df.head()"
   ]
  },
  {
   "cell_type": "raw",
   "metadata": {},
   "source": [
    "Story:\n",
    "    The dataset is about the store sales prices. The dataset contains features like store type, which tier the store belongs too, when the store was established, what are the products available, what are product category, what is the store id, what is the product id and so on. With these all the information we have to find out the target variable or attribute which is the sales_price."
   ]
  },
  {
   "cell_type": "code",
   "execution_count": 106,
   "metadata": {
    "scrolled": true
   },
   "outputs": [
    {
     "data": {
      "image/png": "[encoded data removed]",
      "text/plain": [
       "<Figure size 720x360 with 1 Axes>"
      ]
     },
     "metadata": {
      "needs_background": "light"
     },
     "output_type": "display_data"
    }
   ],
   "source": [
    "plt.figure(figsize=(10,5))\n",
    "sns.histplot(df.Purchased_price,bins=10,kde=True)\n",
    "plt.ylabel(\"Frequency\")\n",
    "plt.show()\n",
    "# In this chart, i have shown how the price is being distributed. The 5 to 10 purchase price is more than anything else in here. "
   ]
  },
  {
   "cell_type": "code",
   "execution_count": 107,
   "metadata": {},
   "outputs": [
    {
     "data": {
      "image/png": "[encoded data removed]",
      "text/plain": [
       "<Figure size 720x360 with 1 Axes>"
      ]
     },
     "metadata": {},
     "output_type": "display_data"
    }
   ],
   "source": [
    "plt.figure(figsize=(10,5))\n",
    "df.groupby(df.Product_Type)[\"Sales_Price\"].sum().plot(kind=\"pie\",autopct=\"%1.1f%%\")#colors=sns.color_palette('pastel')\n",
    "plt.ylabel(\"\")\n",
    "plt.show()\n",
    "# This chart indicates what type of the product available and which type has more contribution. From this chart it is clearly visible that the Low fat product has more weightage than Regular in sales."
   ]
  },
  {
   "cell_type": "code",
   "execution_count": 108,
   "metadata": {},
   "outputs": [
    {
     "data": {
      "image/png": "[encoded data removed]",
      "text/plain": [
       "<Figure size 936x360 with 1 Axes>"
      ]
     },
     "metadata": {
      "needs_background": "light"
     },
     "output_type": "display_data"
    },
    {
     "data": {
      "image/png": "[encoded data removed]",
      "text/plain": [
       "<Figure size 936x360 with 1 Axes>"
      ]
     },
     "metadata": {
      "needs_background": "light"
     },
     "output_type": "display_data"
    }
   ],
   "source": [
    "group = df.groupby([\"Product_Type\",\"Product_Category\"])[[\"Sales_Price\"]].sum().plot(kind=\"line\",figsize=(13,5))\n",
    "group = df.groupby([\"Product_Type\",\"Product_Category\"])[[\"Purchased_price\"]].sum().plot(kind=\"line\",figsize=(13,5))\n",
    "# In this plot i wanted to explain the Total Sales price wrt to the product type and their sub types how much the sales price we need to increase by the purchase price to increase the revenue."
   ]
  },
  {
   "cell_type": "code",
   "execution_count": 109,
   "metadata": {
    "scrolled": true
   },
   "outputs": [
    {
     "data": {
      "text/plain": [
       "<Figure size 1080x576 with 0 Axes>"
      ]
     },
     "metadata": {},
     "output_type": "display_data"
    },
    {
     "data": {
      "image/png": "[encoded data removed]",
      "text/plain": [
       "<Figure size 432x288 with 1 Axes>"
      ]
     },
     "metadata": {
      "needs_background": "light"
     },
     "output_type": "display_data"
    }
   ],
   "source": [
    "plt.figure(figsize=(15,8))\n",
    "pd.DataFrame(df[\"Sales_Revenue\"].groupby(df.Product_Category).mean()).plot(kind=\"barh\")\n",
    "plt.ylabel(\"Avg of sales revenue\")\n",
    "plt.title(\"Avg sales Revenue by Product category\")\n",
    "plt.show()\n",
    "# This chart depicts the average revenue generated by each of the product category."
   ]
  },
  {
   "cell_type": "code",
   "execution_count": 110,
   "metadata": {},
   "outputs": [
    {
     "data": {
      "text/plain": [
       "<AxesSubplot:>"
      ]
     },
     "execution_count": 110,
     "metadata": {},
     "output_type": "execute_result"
    },
    {
     "data": {
      "image/png": "[encoded data removed]",
      "text/plain": [
       "<Figure size 432x288 with 1 Axes>"
      ]
     },
     "metadata": {
      "needs_background": "light"
     },
     "output_type": "display_data"
    }
   ],
   "source": [
    "df.Store_Establishment_Year.value_counts(sort=True,ascending=True).plot(kind=\"bar\")\n",
    "# In here we are depicteing that the store establishment was highest in 1985 and then it got decreased in 1998 and again increased in 1999.Since, then has been in Constant. "
   ]
  },
  {
   "cell_type": "raw",
   "metadata": {},
   "source": [
    "Data preprocessing:"
   ]
  },
  {
   "cell_type": "code",
   "execution_count": 111,
   "metadata": {},
   "outputs": [],
   "source": [
    "df =df.dropna() #Drop null vlaues"
   ]
  },
  {
   "cell_type": "code",
   "execution_count": 112,
   "metadata": {},
   "outputs": [
    {
     "data": {
      "text/plain": [
       "(5364, 13)"
      ]
     },
     "execution_count": 112,
     "metadata": {},
     "output_type": "execute_result"
    }
   ],
   "source": [
    "df.shape"
   ]
  },
  {
   "cell_type": "code",
   "execution_count": 113,
   "metadata": {},
   "outputs": [],
   "source": [
    "df = df.drop(columns=[\"Product_ID\",\"Product_Properties\",\"Store_ID\",\"Store_Establishment_Year\",\"Store_Size\"])"
   ]
  },
  {
   "cell_type": "code",
   "execution_count": 114,
   "metadata": {
    "scrolled": true
   },
   "outputs": [
    {
     "data": {
      "text/plain": [
       "(5364, 8)"
      ]
     },
     "execution_count": 114,
     "metadata": {},
     "output_type": "execute_result"
    }
   ],
   "source": [
    "df.shape"
   ]
  },
  {
   "cell_type": "code",
   "execution_count": 115,
   "metadata": {},
   "outputs": [
    {
     "data": {
      "text/plain": [
       "Purchased_price        float64\n",
       "Product_Type            object\n",
       "Product_Category        object\n",
       "Product_Quantity       float64\n",
       "Store_Location_Tier     object\n",
       "Store_Type              object\n",
       "Sales_Revenue          float64\n",
       "Sales_Price            float64\n",
       "dtype: object"
      ]
     },
     "execution_count": 115,
     "metadata": {},
     "output_type": "execute_result"
    }
   ],
   "source": [
    "df.dtypes"
   ]
  },
  {
   "cell_type": "code",
   "execution_count": 116,
   "metadata": {
    "scrolled": true
   },
   "outputs": [
    {
     "data": {
      "text/plain": [
       "<AxesSubplot:xlabel='Purchased_price'>"
      ]
     },
     "execution_count": 116,
     "metadata": {},
     "output_type": "execute_result"
    },
    {
     "data": {
      "image/png": "[encoded data removed]",
      "text/plain": [
       "<Figure size 432x288 with 1 Axes>"
      ]
     },
     "metadata": {
      "needs_background": "light"
     },
     "output_type": "display_data"
    }
   ],
   "source": [
    "sns.boxplot(x=df.Purchased_price)"
   ]
  },
  {
   "cell_type": "code",
   "execution_count": 117,
   "metadata": {},
   "outputs": [
    {
     "data": {
      "text/plain": [
       "<AxesSubplot:xlabel='Product_Quantity'>"
      ]
     },
     "execution_count": 117,
     "metadata": {},
     "output_type": "execute_result"
    },
    {
     "data": {
      "image/png": "[encoded data removed]",
      "text/plain": [
       "<Figure size 432x288 with 1 Axes>"
      ]
     },
     "metadata": {
      "needs_background": "light"
     },
     "output_type": "display_data"
    }
   ],
   "source": [
    "sns.boxplot(x=df.Product_Quantity)"
   ]
  },
  {
   "cell_type": "code",
   "execution_count": 118,
   "metadata": {
    "scrolled": true
   },
   "outputs": [
    {
     "data": {
      "text/plain": [
       "<AxesSubplot:xlabel='Sales_Revenue'>"
      ]
     },
     "execution_count": 118,
     "metadata": {},
     "output_type": "execute_result"
    },
    {
     "data": {
      "image/png": "[encoded data removed]",
      "text/plain": [
       "<Figure size 432x288 with 1 Axes>"
      ]
     },
     "metadata": {
      "needs_background": "light"
     },
     "output_type": "display_data"
    }
   ],
   "source": [
    "sns.boxplot(x=df.Sales_Revenue)"
   ]
  },
  {
   "cell_type": "code",
   "execution_count": 119,
   "metadata": {
    "scrolled": false
   },
   "outputs": [
    {
     "data": {
      "text/plain": [
       "<AxesSubplot:xlabel='Sales_Price'>"
      ]
     },
     "execution_count": 119,
     "metadata": {},
     "output_type": "execute_result"
    },
    {
     "data": {
      "image/png": "[encoded data removed]",
      "text/plain": [
       "<Figure size 432x288 with 1 Axes>"
      ]
     },
     "metadata": {
      "needs_background": "light"
     },
     "output_type": "display_data"
    }
   ],
   "source": [
    "sns.boxplot(x='Sales_Price',data=df)"
   ]
  },
  {
   "cell_type": "code",
   "execution_count": 120,
   "metadata": {},
   "outputs": [],
   "source": [
    "# Remove outliers\n",
    "df_num=df.select_dtypes(include=\"number\")\n",
    "Q1 = df_num.quantile(0.25)\n",
    "Q3 = df_num.quantile(0.75)\n",
    "IQR = Q3 - Q1\n",
    "lower_bound = Q1 - 1.5*IQR\n",
    "upper_bound = Q3 + 1.5*IQR\n"
   ]
  },
  {
   "cell_type": "code",
   "execution_count": 121,
   "metadata": {},
   "outputs": [],
   "source": [
    "df = df[~((df_num<lower_bound)|(df_num>upper_bound)).any(axis=1)]"
   ]
  },
  {
   "cell_type": "code",
   "execution_count": 122,
   "metadata": {},
   "outputs": [
    {
     "data": {
      "text/plain": [
       "<AxesSubplot:xlabel='Sales_Revenue'>"
      ]
     },
     "execution_count": 122,
     "metadata": {},
     "output_type": "execute_result"
    },
    {
     "data": {
      "image/png": "[encoded data removed]",
      "text/plain": [
       "<Figure size 432x288 with 1 Axes>"
      ]
     },
     "metadata": {
      "needs_background": "light"
     },
     "output_type": "display_data"
    }
   ],
   "source": [
    "sns.boxplot(x=df.Sales_Revenue)"
   ]
  },
  {
   "cell_type": "code",
   "execution_count": 123,
   "metadata": {},
   "outputs": [
    {
     "data": {
      "text/plain": [
       "<AxesSubplot:xlabel='Sales_Price'>"
      ]
     },
     "execution_count": 123,
     "metadata": {},
     "output_type": "execute_result"
    },
    {
     "data": {
      "image/png": "[encoded data removed]",
      "text/plain": [
       "<Figure size 432x288 with 1 Axes>"
      ]
     },
     "metadata": {
      "needs_background": "light"
     },
     "output_type": "display_data"
    }
   ],
   "source": [
    "sns.boxplot(x='Sales_Price',data=df)"
   ]
  },
  {
   "cell_type": "code",
   "execution_count": 124,
   "metadata": {},
   "outputs": [],
   "source": [
    "df_num=df.select_dtypes(include=\"number\")\n",
    "Q1 = df_num.quantile(0.25)\n",
    "Q3 = df_num.quantile(0.75)\n",
    "IQR = Q3 - Q1\n",
    "lower_bound = Q1 - 1.5*IQR\n",
    "upper_bound = Q3 + 1.5*IQR"
   ]
  },
  {
   "cell_type": "code",
   "execution_count": 125,
   "metadata": {},
   "outputs": [],
   "source": [
    "df = df[~((df_num<lower_bound)|(df_num>upper_bound)).any(axis=1)]"
   ]
  },
  {
   "cell_type": "code",
   "execution_count": 126,
   "metadata": {},
   "outputs": [
    {
     "data": {
      "text/plain": [
       "<AxesSubplot:xlabel='Sales_Revenue'>"
      ]
     },
     "execution_count": 126,
     "metadata": {},
     "output_type": "execute_result"
    },
    {
     "data": {
      "image/png": "[encoded data removed]",
      "text/plain": [
       "<Figure size 432x288 with 1 Axes>"
      ]
     },
     "metadata": {
      "needs_background": "light"
     },
     "output_type": "display_data"
    }
   ],
   "source": [
    "sns.boxplot(x=df.Sales_Revenue)"
   ]
  },
  {
   "cell_type": "code",
   "execution_count": 127,
   "metadata": {},
   "outputs": [
    {
     "data": {
      "text/plain": [
       "<AxesSubplot:xlabel='Sales_Price'>"
      ]
     },
     "execution_count": 127,
     "metadata": {},
     "output_type": "execute_result"
    },
    {
     "data": {
      "image/png": "[encoded data removed]",
      "text/plain": [
       "<Figure size 432x288 with 1 Axes>"
      ]
     },
     "metadata": {
      "needs_background": "light"
     },
     "output_type": "display_data"
    }
   ],
   "source": [
    "sns.boxplot(x='Sales_Price',data=df)"
   ]
  },
  {
   "cell_type": "code",
   "execution_count": 128,
   "metadata": {},
   "outputs": [],
   "source": [
    "df_num = df.select_dtypes(include=\"number\")\n",
    "Q1 = df_num.quantile(0.25)\n",
    "Q3 = df_num.quantile(0.75)\n",
    "IQR = Q3 -Q1\n",
    "lower_bound = Q1 - 1.5*IQR\n",
    "upper_bound = Q3+1.5*IQR"
   ]
  },
  {
   "cell_type": "code",
   "execution_count": 129,
   "metadata": {},
   "outputs": [],
   "source": [
    "df = df[~((df_num<lower_bound)|(df_num>upper_bound)).any(axis=1)]"
   ]
  },
  {
   "cell_type": "code",
   "execution_count": 130,
   "metadata": {},
   "outputs": [
    {
     "data": {
      "text/plain": [
       "<AxesSubplot:xlabel='Sales_Revenue'>"
      ]
     },
     "execution_count": 130,
     "metadata": {},
     "output_type": "execute_result"
    },
    {
     "data": {
      "image/png": "[encoded data removed]",
      "text/plain": [
       "<Figure size 432x288 with 1 Axes>"
      ]
     },
     "metadata": {
      "needs_background": "light"
     },
     "output_type": "display_data"
    }
   ],
   "source": [
    "sns.boxplot(x=df.Sales_Revenue)"
   ]
  },
  {
   "cell_type": "code",
   "execution_count": 131,
   "metadata": {},
   "outputs": [
    {
     "data": {
      "text/plain": [
       "<AxesSubplot:xlabel='Sales_Price'>"
      ]
     },
     "execution_count": 131,
     "metadata": {},
     "output_type": "execute_result"
    },
    {
     "data": {
      "image/png": "[encoded data removed]",
      "text/plain": [
       "<Figure size 432x288 with 1 Axes>"
      ]
     },
     "metadata": {
      "needs_background": "light"
     },
     "output_type": "display_data"
    }
   ],
   "source": [
    "sns.boxplot(x='Sales_Price',data=df)"
   ]
  },
  {
   "cell_type": "code",
   "execution_count": 132,
   "metadata": {},
   "outputs": [
    {
     "data": {
      "text/plain": [
       "(4581, 8)"
      ]
     },
     "execution_count": 132,
     "metadata": {},
     "output_type": "execute_result"
    }
   ],
   "source": [
    "df.shape"
   ]
  },
  {
   "cell_type": "code",
   "execution_count": 133,
   "metadata": {},
   "outputs": [
    {
     "data": {
      "text/html": [
       "<div>\n",
       "<style scoped>\n",
       "    .dataframe tbody tr th:only-of-type {\n",
       "        vertical-align: middle;\n",
       "    }\n",
       "\n",
       "    .dataframe tbody tr th {\n",
       "        vertical-align: top;\n",
       "    }\n",
       "\n",
       "    .dataframe thead th {\n",
       "        text-align: right;\n",
       "    }\n",
       "</style>\n",
       "<table border=\"1\" class=\"dataframe\">\n",
       "  <thead>\n",
       "    <tr style=\"text-align: right;\">\n",
       "      <th></th>\n",
       "      <th>Purchased_price</th>\n",
       "      <th>Product_Type</th>\n",
       "      <th>Product_Category</th>\n",
       "      <th>Product_Quantity</th>\n",
       "      <th>Store_Location_Tier</th>\n",
       "      <th>Store_Type</th>\n",
       "      <th>Sales_Revenue</th>\n",
       "    </tr>\n",
       "  </thead>\n",
       "  <tbody>\n",
       "    <tr>\n",
       "      <th>1</th>\n",
       "      <td>5.92</td>\n",
       "      <td>Regular</td>\n",
       "      <td>Soft Drinks</td>\n",
       "      <td>48.3</td>\n",
       "      <td>Tier 2</td>\n",
       "      <td>Supermarket Type2</td>\n",
       "      <td>443.4228</td>\n",
       "    </tr>\n",
       "    <tr>\n",
       "      <th>2</th>\n",
       "      <td>17.50</td>\n",
       "      <td>Low Fat</td>\n",
       "      <td>Meat</td>\n",
       "      <td>141.6</td>\n",
       "      <td>Tier 2</td>\n",
       "      <td>Supermarket Type1</td>\n",
       "      <td>2097.2700</td>\n",
       "    </tr>\n",
       "    <tr>\n",
       "      <th>4</th>\n",
       "      <td>8.93</td>\n",
       "      <td>Low Fat</td>\n",
       "      <td>Household</td>\n",
       "      <td>53.9</td>\n",
       "      <td>Tier 3</td>\n",
       "      <td>Supermarket Type1</td>\n",
       "      <td>994.7052</td>\n",
       "    </tr>\n",
       "    <tr>\n",
       "      <th>10</th>\n",
       "      <td>11.80</td>\n",
       "      <td>Low Fat</td>\n",
       "      <td>Fruits and Vegetables</td>\n",
       "      <td>45.5</td>\n",
       "      <td>Tier 2</td>\n",
       "      <td>Supermarket Type1</td>\n",
       "      <td>1516.0266</td>\n",
       "    </tr>\n",
       "    <tr>\n",
       "      <th>11</th>\n",
       "      <td>18.50</td>\n",
       "      <td>Regular</td>\n",
       "      <td>Dairy</td>\n",
       "      <td>144.1</td>\n",
       "      <td>Tier1</td>\n",
       "      <td>Supermarket Type1</td>\n",
       "      <td>2187.1530</td>\n",
       "    </tr>\n",
       "  </tbody>\n",
       "</table>\n",
       "</div>"
      ],
      "text/plain": [
       "    Purchased_price Product_Type       Product_Category  Product_Quantity  \\\n",
       "1              5.92      Regular            Soft Drinks              48.3   \n",
       "2             17.50      Low Fat                   Meat             141.6   \n",
       "4              8.93      Low Fat              Household              53.9   \n",
       "10            11.80      Low Fat  Fruits and Vegetables              45.5   \n",
       "11            18.50      Regular                  Dairy             144.1   \n",
       "\n",
       "   Store_Location_Tier         Store_Type  Sales_Revenue  \n",
       "1               Tier 2  Supermarket Type2       443.4228  \n",
       "2               Tier 2  Supermarket Type1      2097.2700  \n",
       "4               Tier 3  Supermarket Type1       994.7052  \n",
       "10              Tier 2  Supermarket Type1      1516.0266  \n",
       "11               Tier1  Supermarket Type1      2187.1530  "
      ]
     },
     "execution_count": 133,
     "metadata": {},
     "output_type": "execute_result"
    }
   ],
   "source": [
    "#drop the label column from df and store features in x and store target label it in y. \n",
    "x = df.drop(\"Sales_Price\",axis=1)\n",
    "y=df.Sales_Price\n",
    "x.head()"
   ]
  },
  {
   "cell_type": "code",
   "execution_count": 134,
   "metadata": {},
   "outputs": [],
   "source": [
    "scaler = MinMaxScaler()"
   ]
  },
  {
   "cell_type": "code",
   "execution_count": 135,
   "metadata": {},
   "outputs": [],
   "source": [
    "x_num = df.select_dtypes(\"number\")\n",
    "x_num_scaled = scaler.fit_transform(x_num)"
   ]
  },
  {
   "cell_type": "code",
   "execution_count": 136,
   "metadata": {},
   "outputs": [],
   "source": [
    "x_cat = df.select_dtypes(\"object\")\n",
    "x_cat_encoded = pd.get_dummies(x_cat,drop_first=False,dtype=int)"
   ]
  },
  {
   "cell_type": "code",
   "execution_count": 137,
   "metadata": {},
   "outputs": [
    {
     "data": {
      "text/html": [
       "<div>\n",
       "<style scoped>\n",
       "    .dataframe tbody tr th:only-of-type {\n",
       "        vertical-align: middle;\n",
       "    }\n",
       "\n",
       "    .dataframe tbody tr th {\n",
       "        vertical-align: top;\n",
       "    }\n",
       "\n",
       "    .dataframe thead th {\n",
       "        text-align: right;\n",
       "    }\n",
       "</style>\n",
       "<table border=\"1\" class=\"dataframe\">\n",
       "  <thead>\n",
       "    <tr style=\"text-align: right;\">\n",
       "      <th></th>\n",
       "      <th>Purchased_price</th>\n",
       "      <th>Product_Quantity</th>\n",
       "      <th>Sales_Revenue</th>\n",
       "      <th>Sales_Price</th>\n",
       "    </tr>\n",
       "  </thead>\n",
       "  <tbody>\n",
       "    <tr>\n",
       "      <th>1</th>\n",
       "      <td>0.277283</td>\n",
       "      <td>0.071368</td>\n",
       "      <td>0.066214</td>\n",
       "      <td>0.750000</td>\n",
       "    </tr>\n",
       "    <tr>\n",
       "      <th>2</th>\n",
       "      <td>0.819672</td>\n",
       "      <td>0.467715</td>\n",
       "      <td>0.334088</td>\n",
       "      <td>0.821429</td>\n",
       "    </tr>\n",
       "    <tr>\n",
       "      <th>4</th>\n",
       "      <td>0.418267</td>\n",
       "      <td>0.095157</td>\n",
       "      <td>0.155505</td>\n",
       "      <td>0.678571</td>\n",
       "    </tr>\n",
       "    <tr>\n",
       "      <th>10</th>\n",
       "      <td>0.552693</td>\n",
       "      <td>0.059473</td>\n",
       "      <td>0.239944</td>\n",
       "      <td>0.750000</td>\n",
       "    </tr>\n",
       "    <tr>\n",
       "      <th>11</th>\n",
       "      <td>0.866511</td>\n",
       "      <td>0.478335</td>\n",
       "      <td>0.348647</td>\n",
       "      <td>0.750000</td>\n",
       "    </tr>\n",
       "    <tr>\n",
       "      <th>...</th>\n",
       "      <td>...</td>\n",
       "      <td>...</td>\n",
       "      <td>...</td>\n",
       "      <td>...</td>\n",
       "    </tr>\n",
       "    <tr>\n",
       "      <th>8516</th>\n",
       "      <td>0.871194</td>\n",
       "      <td>0.115973</td>\n",
       "      <td>0.133506</td>\n",
       "      <td>0.857143</td>\n",
       "    </tr>\n",
       "    <tr>\n",
       "      <th>8517</th>\n",
       "      <td>0.971897</td>\n",
       "      <td>0.625743</td>\n",
       "      <td>0.578885</td>\n",
       "      <td>0.357143</td>\n",
       "    </tr>\n",
       "    <tr>\n",
       "      <th>8518</th>\n",
       "      <td>0.321546</td>\n",
       "      <td>0.777400</td>\n",
       "      <td>0.444408</td>\n",
       "      <td>0.678571</td>\n",
       "    </tr>\n",
       "    <tr>\n",
       "      <th>8521</th>\n",
       "      <td>0.337705</td>\n",
       "      <td>0.304163</td>\n",
       "      <td>0.293325</td>\n",
       "      <td>0.714286</td>\n",
       "    </tr>\n",
       "    <tr>\n",
       "      <th>8522</th>\n",
       "      <td>0.693208</td>\n",
       "      <td>0.186916</td>\n",
       "      <td>0.118408</td>\n",
       "      <td>0.857143</td>\n",
       "    </tr>\n",
       "  </tbody>\n",
       "</table>\n",
       "<p>4581 rows × 4 columns</p>\n",
       "</div>"
      ],
      "text/plain": [
       "      Purchased_price  Product_Quantity  Sales_Revenue  Sales_Price\n",
       "1            0.277283          0.071368       0.066214     0.750000\n",
       "2            0.819672          0.467715       0.334088     0.821429\n",
       "4            0.418267          0.095157       0.155505     0.678571\n",
       "10           0.552693          0.059473       0.239944     0.750000\n",
       "11           0.866511          0.478335       0.348647     0.750000\n",
       "...               ...               ...            ...          ...\n",
       "8516         0.871194          0.115973       0.133506     0.857143\n",
       "8517         0.971897          0.625743       0.578885     0.357143\n",
       "8518         0.321546          0.777400       0.444408     0.678571\n",
       "8521         0.337705          0.304163       0.293325     0.714286\n",
       "8522         0.693208          0.186916       0.118408     0.857143\n",
       "\n",
       "[4581 rows x 4 columns]"
      ]
     },
     "execution_count": 137,
     "metadata": {},
     "output_type": "execute_result"
    }
   ],
   "source": [
    "x_num_scaled = pd.DataFrame(x_num_scaled,columns=x_num.columns,index=x_num.index)\n",
    "x_num_scaled"
   ]
  },
  {
   "cell_type": "code",
   "execution_count": 138,
   "metadata": {},
   "outputs": [],
   "source": [
    "X = pd.concat([x_num_scaled,x_cat_encoded],axis=1) #combine the Scaled columns."
   ]
  },
  {
   "cell_type": "code",
   "execution_count": 139,
   "metadata": {},
   "outputs": [
    {
     "data": {
      "text/plain": [
       "((4581, 29), (4581, 4), (4581, 25))"
      ]
     },
     "execution_count": 139,
     "metadata": {},
     "output_type": "execute_result"
    }
   ],
   "source": [
    "X.shape,x_num_scaled.shape,x_cat_encoded.shape"
   ]
  },
  {
   "cell_type": "code",
   "execution_count": 140,
   "metadata": {},
   "outputs": [
    {
     "name": "stdout",
     "output_type": "stream",
     "text": [
      "Purchased_price                           0\n",
      "Product_Quantity                          0\n",
      "Sales_Revenue                             0\n",
      "Sales_Price                               0\n",
      "Product_Type_Low Fat                      0\n",
      "Product_Type_Regular                      0\n",
      "Product_Category_Baking Goods             0\n",
      "Product_Category_Breads                   0\n",
      "Product_Category_Breakfast                0\n",
      "Product_Category_Canned                   0\n",
      "Product_Category_Dairy                    0\n",
      "Product_Category_Frozen Foods             0\n",
      "Product_Category_Fruits and Vegetables    0\n",
      "Product_Category_Hard Drinks              0\n",
      "Product_Category_Health and Hygiene       0\n",
      "Product_Category_Household                0\n",
      "Product_Category_Meat                     0\n",
      "Product_Category_Others                   0\n",
      "Product_Category_Seafood                  0\n",
      "Product_Category_Snack Foods              0\n",
      "Product_Category_Soft Drinks              0\n",
      "Product_Category_Starchy Foods            0\n",
      "Store_Location_Tier_Tier 2                0\n",
      "Store_Location_Tier_Tier 3                0\n",
      "Store_Location_Tier_Tier1                 0\n",
      "Store_Type_Grocery Store                  0\n",
      "Store_Type_Supermarket Type1              0\n",
      "Store_Type_Supermarket Type2              0\n",
      "Store_Type_Supermarket Type3              0\n",
      "dtype: int64\n",
      "0\n",
      "(4581, 29)\n",
      "(4581,)\n"
     ]
    }
   ],
   "source": [
    "print(X.isnull().sum())\n",
    "print(y.isnull().sum())\n",
    "print(X.shape)\n",
    "print(y.shape)"
   ]
  },
  {
   "cell_type": "code",
   "execution_count": 141,
   "metadata": {},
   "outputs": [
    {
     "data": {
      "text/html": [
       "<div>\n",
       "<style scoped>\n",
       "    .dataframe tbody tr th:only-of-type {\n",
       "        vertical-align: middle;\n",
       "    }\n",
       "\n",
       "    .dataframe tbody tr th {\n",
       "        vertical-align: top;\n",
       "    }\n",
       "\n",
       "    .dataframe thead th {\n",
       "        text-align: right;\n",
       "    }\n",
       "</style>\n",
       "<table border=\"1\" class=\"dataframe\">\n",
       "  <thead>\n",
       "    <tr style=\"text-align: right;\">\n",
       "      <th></th>\n",
       "      <th>Purchased_price</th>\n",
       "      <th>Product_Quantity</th>\n",
       "      <th>Sales_Revenue</th>\n",
       "      <th>Sales_Price</th>\n",
       "      <th>Product_Type_Low Fat</th>\n",
       "      <th>Product_Type_Regular</th>\n",
       "      <th>Product_Category_Baking Goods</th>\n",
       "      <th>Product_Category_Breads</th>\n",
       "      <th>Product_Category_Breakfast</th>\n",
       "      <th>Product_Category_Canned</th>\n",
       "      <th>...</th>\n",
       "      <th>Product_Category_Snack Foods</th>\n",
       "      <th>Product_Category_Soft Drinks</th>\n",
       "      <th>Product_Category_Starchy Foods</th>\n",
       "      <th>Store_Location_Tier_Tier 2</th>\n",
       "      <th>Store_Location_Tier_Tier 3</th>\n",
       "      <th>Store_Location_Tier_Tier1</th>\n",
       "      <th>Store_Type_Grocery Store</th>\n",
       "      <th>Store_Type_Supermarket Type1</th>\n",
       "      <th>Store_Type_Supermarket Type2</th>\n",
       "      <th>Store_Type_Supermarket Type3</th>\n",
       "    </tr>\n",
       "  </thead>\n",
       "  <tbody>\n",
       "    <tr>\n",
       "      <th>count</th>\n",
       "      <td>4581.000000</td>\n",
       "      <td>4581.000000</td>\n",
       "      <td>4581.000000</td>\n",
       "      <td>4581.000000</td>\n",
       "      <td>4581.000000</td>\n",
       "      <td>4581.000000</td>\n",
       "      <td>4581.000000</td>\n",
       "      <td>4581.000000</td>\n",
       "      <td>4581.000000</td>\n",
       "      <td>4581.000000</td>\n",
       "      <td>...</td>\n",
       "      <td>4581.000000</td>\n",
       "      <td>4581.000000</td>\n",
       "      <td>4581.000000</td>\n",
       "      <td>4581.000000</td>\n",
       "      <td>4581.000000</td>\n",
       "      <td>4581.000000</td>\n",
       "      <td>4581.000000</td>\n",
       "      <td>4581.000000</td>\n",
       "      <td>4581.000000</td>\n",
       "      <td>4581.000000</td>\n",
       "    </tr>\n",
       "    <tr>\n",
       "      <th>mean</th>\n",
       "      <td>0.527302</td>\n",
       "      <td>0.458558</td>\n",
       "      <td>0.345048</td>\n",
       "      <td>0.607712</td>\n",
       "      <td>0.646802</td>\n",
       "      <td>0.353198</td>\n",
       "      <td>0.077276</td>\n",
       "      <td>0.028378</td>\n",
       "      <td>0.012443</td>\n",
       "      <td>0.074001</td>\n",
       "      <td>...</td>\n",
       "      <td>0.138834</td>\n",
       "      <td>0.049552</td>\n",
       "      <td>0.017463</td>\n",
       "      <td>0.425890</td>\n",
       "      <td>0.174634</td>\n",
       "      <td>0.399476</td>\n",
       "      <td>0.050426</td>\n",
       "      <td>0.697228</td>\n",
       "      <td>0.174634</td>\n",
       "      <td>0.077712</td>\n",
       "    </tr>\n",
       "    <tr>\n",
       "      <th>std</th>\n",
       "      <td>0.287372</td>\n",
       "      <td>0.262410</td>\n",
       "      <td>0.232672</td>\n",
       "      <td>0.225778</td>\n",
       "      <td>0.478016</td>\n",
       "      <td>0.478016</td>\n",
       "      <td>0.267058</td>\n",
       "      <td>0.166069</td>\n",
       "      <td>0.110863</td>\n",
       "      <td>0.261802</td>\n",
       "      <td>...</td>\n",
       "      <td>0.345811</td>\n",
       "      <td>0.217042</td>\n",
       "      <td>0.131005</td>\n",
       "      <td>0.494531</td>\n",
       "      <td>0.379695</td>\n",
       "      <td>0.489844</td>\n",
       "      <td>0.218846</td>\n",
       "      <td>0.459508</td>\n",
       "      <td>0.379695</td>\n",
       "      <td>0.267748</td>\n",
       "    </tr>\n",
       "    <tr>\n",
       "      <th>min</th>\n",
       "      <td>0.000000</td>\n",
       "      <td>0.000000</td>\n",
       "      <td>0.000000</td>\n",
       "      <td>0.000000</td>\n",
       "      <td>0.000000</td>\n",
       "      <td>0.000000</td>\n",
       "      <td>0.000000</td>\n",
       "      <td>0.000000</td>\n",
       "      <td>0.000000</td>\n",
       "      <td>0.000000</td>\n",
       "      <td>...</td>\n",
       "      <td>0.000000</td>\n",
       "      <td>0.000000</td>\n",
       "      <td>0.000000</td>\n",
       "      <td>0.000000</td>\n",
       "      <td>0.000000</td>\n",
       "      <td>0.000000</td>\n",
       "      <td>0.000000</td>\n",
       "      <td>0.000000</td>\n",
       "      <td>0.000000</td>\n",
       "      <td>0.000000</td>\n",
       "    </tr>\n",
       "    <tr>\n",
       "      <th>25%</th>\n",
       "      <td>0.343091</td>\n",
       "      <td>0.262107</td>\n",
       "      <td>0.157446</td>\n",
       "      <td>0.464286</td>\n",
       "      <td>0.000000</td>\n",
       "      <td>0.000000</td>\n",
       "      <td>0.000000</td>\n",
       "      <td>0.000000</td>\n",
       "      <td>0.000000</td>\n",
       "      <td>0.000000</td>\n",
       "      <td>...</td>\n",
       "      <td>0.000000</td>\n",
       "      <td>0.000000</td>\n",
       "      <td>0.000000</td>\n",
       "      <td>0.000000</td>\n",
       "      <td>0.000000</td>\n",
       "      <td>0.000000</td>\n",
       "      <td>0.000000</td>\n",
       "      <td>0.000000</td>\n",
       "      <td>0.000000</td>\n",
       "      <td>0.000000</td>\n",
       "    </tr>\n",
       "    <tr>\n",
       "      <th>50%</th>\n",
       "      <td>0.543326</td>\n",
       "      <td>0.466440</td>\n",
       "      <td>0.297423</td>\n",
       "      <td>0.678571</td>\n",
       "      <td>1.000000</td>\n",
       "      <td>0.000000</td>\n",
       "      <td>0.000000</td>\n",
       "      <td>0.000000</td>\n",
       "      <td>0.000000</td>\n",
       "      <td>0.000000</td>\n",
       "      <td>...</td>\n",
       "      <td>0.000000</td>\n",
       "      <td>0.000000</td>\n",
       "      <td>0.000000</td>\n",
       "      <td>0.000000</td>\n",
       "      <td>0.000000</td>\n",
       "      <td>0.000000</td>\n",
       "      <td>0.000000</td>\n",
       "      <td>1.000000</td>\n",
       "      <td>0.000000</td>\n",
       "      <td>0.000000</td>\n",
       "    </tr>\n",
       "    <tr>\n",
       "      <th>75%</th>\n",
       "      <td>0.765808</td>\n",
       "      <td>0.648683</td>\n",
       "      <td>0.495201</td>\n",
       "      <td>0.785714</td>\n",
       "      <td>1.000000</td>\n",
       "      <td>1.000000</td>\n",
       "      <td>0.000000</td>\n",
       "      <td>0.000000</td>\n",
       "      <td>0.000000</td>\n",
       "      <td>0.000000</td>\n",
       "      <td>...</td>\n",
       "      <td>0.000000</td>\n",
       "      <td>0.000000</td>\n",
       "      <td>0.000000</td>\n",
       "      <td>1.000000</td>\n",
       "      <td>0.000000</td>\n",
       "      <td>1.000000</td>\n",
       "      <td>0.000000</td>\n",
       "      <td>1.000000</td>\n",
       "      <td>0.000000</td>\n",
       "      <td>0.000000</td>\n",
       "    </tr>\n",
       "    <tr>\n",
       "      <th>max</th>\n",
       "      <td>1.000000</td>\n",
       "      <td>1.000000</td>\n",
       "      <td>1.000000</td>\n",
       "      <td>1.000000</td>\n",
       "      <td>1.000000</td>\n",
       "      <td>1.000000</td>\n",
       "      <td>1.000000</td>\n",
       "      <td>1.000000</td>\n",
       "      <td>1.000000</td>\n",
       "      <td>1.000000</td>\n",
       "      <td>...</td>\n",
       "      <td>1.000000</td>\n",
       "      <td>1.000000</td>\n",
       "      <td>1.000000</td>\n",
       "      <td>1.000000</td>\n",
       "      <td>1.000000</td>\n",
       "      <td>1.000000</td>\n",
       "      <td>1.000000</td>\n",
       "      <td>1.000000</td>\n",
       "      <td>1.000000</td>\n",
       "      <td>1.000000</td>\n",
       "    </tr>\n",
       "  </tbody>\n",
       "</table>\n",
       "<p>8 rows × 29 columns</p>\n",
       "</div>"
      ],
      "text/plain": [
       "       Purchased_price  Product_Quantity  Sales_Revenue  Sales_Price  \\\n",
       "count      4581.000000       4581.000000    4581.000000  4581.000000   \n",
       "mean          0.527302          0.458558       0.345048     0.607712   \n",
       "std           0.287372          0.262410       0.232672     0.225778   \n",
       "min           0.000000          0.000000       0.000000     0.000000   \n",
       "25%           0.343091          0.262107       0.157446     0.464286   \n",
       "50%           0.543326          0.466440       0.297423     0.678571   \n",
       "75%           0.765808          0.648683       0.495201     0.785714   \n",
       "max           1.000000          1.000000       1.000000     1.000000   \n",
       "\n",
       "       Product_Type_Low Fat  Product_Type_Regular  \\\n",
       "count           4581.000000           4581.000000   \n",
       "mean               0.646802              0.353198   \n",
       "std                0.478016              0.478016   \n",
       "min                0.000000              0.000000   \n",
       "25%                0.000000              0.000000   \n",
       "50%                1.000000              0.000000   \n",
       "75%                1.000000              1.000000   \n",
       "max                1.000000              1.000000   \n",
       "\n",
       "       Product_Category_Baking Goods  Product_Category_Breads  \\\n",
       "count                    4581.000000              4581.000000   \n",
       "mean                        0.077276                 0.028378   \n",
       "std                         0.267058                 0.166069   \n",
       "min                         0.000000                 0.000000   \n",
       "25%                         0.000000                 0.000000   \n",
       "50%                         0.000000                 0.000000   \n",
       "75%                         0.000000                 0.000000   \n",
       "max                         1.000000                 1.000000   \n",
       "\n",
       "       Product_Category_Breakfast  Product_Category_Canned  ...  \\\n",
       "count                 4581.000000              4581.000000  ...   \n",
       "mean                     0.012443                 0.074001  ...   \n",
       "std                      0.110863                 0.261802  ...   \n",
       "min                      0.000000                 0.000000  ...   \n",
       "25%                      0.000000                 0.000000  ...   \n",
       "50%                      0.000000                 0.000000  ...   \n",
       "75%                      0.000000                 0.000000  ...   \n",
       "max                      1.000000                 1.000000  ...   \n",
       "\n",
       "       Product_Category_Snack Foods  Product_Category_Soft Drinks  \\\n",
       "count                   4581.000000                   4581.000000   \n",
       "mean                       0.138834                      0.049552   \n",
       "std                        0.345811                      0.217042   \n",
       "min                        0.000000                      0.000000   \n",
       "25%                        0.000000                      0.000000   \n",
       "50%                        0.000000                      0.000000   \n",
       "75%                        0.000000                      0.000000   \n",
       "max                        1.000000                      1.000000   \n",
       "\n",
       "       Product_Category_Starchy Foods  Store_Location_Tier_Tier 2  \\\n",
       "count                     4581.000000                 4581.000000   \n",
       "mean                         0.017463                    0.425890   \n",
       "std                          0.131005                    0.494531   \n",
       "min                          0.000000                    0.000000   \n",
       "25%                          0.000000                    0.000000   \n",
       "50%                          0.000000                    0.000000   \n",
       "75%                          0.000000                    1.000000   \n",
       "max                          1.000000                    1.000000   \n",
       "\n",
       "       Store_Location_Tier_Tier 3  Store_Location_Tier_Tier1  \\\n",
       "count                 4581.000000                4581.000000   \n",
       "mean                     0.174634                   0.399476   \n",
       "std                      0.379695                   0.489844   \n",
       "min                      0.000000                   0.000000   \n",
       "25%                      0.000000                   0.000000   \n",
       "50%                      0.000000                   0.000000   \n",
       "75%                      0.000000                   1.000000   \n",
       "max                      1.000000                   1.000000   \n",
       "\n",
       "       Store_Type_Grocery Store  Store_Type_Supermarket Type1  \\\n",
       "count               4581.000000                   4581.000000   \n",
       "mean                   0.050426                      0.697228   \n",
       "std                    0.218846                      0.459508   \n",
       "min                    0.000000                      0.000000   \n",
       "25%                    0.000000                      0.000000   \n",
       "50%                    0.000000                      1.000000   \n",
       "75%                    0.000000                      1.000000   \n",
       "max                    1.000000                      1.000000   \n",
       "\n",
       "       Store_Type_Supermarket Type2  Store_Type_Supermarket Type3  \n",
       "count                   4581.000000                   4581.000000  \n",
       "mean                       0.174634                      0.077712  \n",
       "std                        0.379695                      0.267748  \n",
       "min                        0.000000                      0.000000  \n",
       "25%                        0.000000                      0.000000  \n",
       "50%                        0.000000                      0.000000  \n",
       "75%                        0.000000                      0.000000  \n",
       "max                        1.000000                      1.000000  \n",
       "\n",
       "[8 rows x 29 columns]"
      ]
     },
     "execution_count": 141,
     "metadata": {},
     "output_type": "execute_result"
    }
   ],
   "source": [
    "X.describe()"
   ]
  },
  {
   "cell_type": "code",
   "execution_count": 142,
   "metadata": {},
   "outputs": [],
   "source": [
    "x_train,x_test,y_train,y_test = train_test_split(X,y,test_size=0.2,random_state=42)"
   ]
  },
  {
   "cell_type": "code",
   "execution_count": 143,
   "metadata": {},
   "outputs": [
    {
     "name": "stdout",
     "output_type": "stream",
     "text": [
      "(3664, 29)\n",
      "(3664,)\n",
      "(917, 29)\n",
      "(917,)\n"
     ]
    }
   ],
   "source": [
    "print(x_train.shape)\n",
    "print(y_train.shape)\n",
    "print(x_test.shape)\n",
    "print(y_test.shape)"
   ]
  },
  {
   "cell_type": "code",
   "execution_count": 144,
   "metadata": {},
   "outputs": [],
   "source": [
    "X.to_csv('Store_features.csv', index=False)\n",
    "y.to_csv('Store_label.csv',index=False)"
   ]
  },
  {
   "cell_type": "markdown",
   "metadata": {},
   "source": [
    "### KNN , CV , HOLD_OUT(TRAIN,TEST):"
   ]
  },
  {
   "cell_type": "code",
   "execution_count": 145,
   "metadata": {},
   "outputs": [],
   "source": [
    "from sklearn.model_selection import cross_val_score\n",
    "from sklearn.neighbors import KNeighborsRegressor\n",
    "from sklearn.metrics import mean_absolute_percentage_error,mean_squared_error\n",
    "from scipy import stats"
   ]
  },
  {
   "cell_type": "code",
   "execution_count": 147,
   "metadata": {
    "scrolled": false
   },
   "outputs": [],
   "source": [
    "k_values = np.arange(1, 11, 2)\n",
    "cv_mape_scores = []\n",
    "train_mape_scores = []\n",
    "test_mape_scores = []\n",
    "\n",
    "for k in k_values:\n",
    "    knn = KNeighborsRegressor(n_neighbors=k)\n",
    "    \n",
    "    # Calculate CV MAPE using cross-validation (CV) with full X and y\n",
    "    cv_scores = -cross_val_score(knn, X, y, cv=5, scoring='neg_mean_absolute_percentage_error')\n",
    "    cv_mape = np.mean(cv_scores)\n",
    "    cv_mape_scores.append(cv_mape)\n",
    "    \n",
    "    # Train the model on the full training set and calculate train MAPE\n",
    "    knn.fit(x_train, y_train)\n",
    "    train_pred = knn.predict(x_train)\n",
    "    train_mape = mean_absolute_percentage_error(y_train, train_pred)\n",
    "    train_mape_scores.append(train_mape)\n",
    "    \n",
    "    # Calculate test MAPE\n",
    "    test_pred = knn.predict(x_test)\n",
    "    test_mape = mean_absolute_percentage_error(y_test, test_pred)\n",
    "    test_mape_scores.append(test_mape)"
   ]
  },
  {
   "cell_type": "code",
   "execution_count": 152,
   "metadata": {},
   "outputs": [
    {
     "data": {
      "image/png": "[encoded data removed]",
      "text/plain": [
       "<Figure size 432x288 with 1 Axes>"
      ]
     },
     "metadata": {
      "needs_background": "light"
     },
     "output_type": "display_data"
    },
    {
     "name": "stdout",
     "output_type": "stream",
     "text": [
      "The best k value for cv is 3\n"
     ]
    }
   ],
   "source": [
    "plt.plot(k_values,cv_mape_scores,marker=\"o\",label=\"cv mape\")\n",
    "plt.plot(k_values,train_mape_scores,marker=\"o\",label=\"train mape\")\n",
    "plt.plot(k_values,test_mape_scores,marker=\"o\",label=\"test mape\")\n",
    "plt.legend()\n",
    "plt.show()\n",
    "\n",
    "best_k = k_values[np.argmin(cv_mape_scores)]\n",
    "print(f\"The best k value for cv is {best_k}\")"
   ]
  },
  {
   "cell_type": "code",
   "execution_count": null,
   "metadata": {},
   "outputs": [],
   "source": []
  }
 ],
 "metadata": {
  "kernelspec": {
   "display_name": "Python 3",
   "language": "python",
   "name": "python3"
  },
  "language_info": {
   "codemirror_mode": {
    "name": "ipython",
    "version": 3
   },
   "file_extension": ".py",
   "mimetype": "text/x-python",
   "name": "python",
   "nbconvert_exporter": "python",
   "pygments_lexer": "ipython3",
   "version": "3.7.3"
  }
 },
 "nbformat": 4,
 "nbformat_minor": 5
}
