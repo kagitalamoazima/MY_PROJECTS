{
 "cells": [
  {
   "cell_type": "code",
   "execution_count": 50,
   "metadata": {},
   "outputs": [],
   "source": [
    "import numpy as np\n",
    "import pandas as pd\n",
    "import seaborn as sns\n",
    "import matplotlib.pyplot as plt\n",
    "from sklearn.model_selection import train_test_split\n",
    "from sklearn.preprocessing import MinMaxScaler"
   ]
  },
  {
   "cell_type": "markdown",
   "metadata": {},
   "source": [
    "# Exploratory Data Analysis"
   ]
  },
  {
   "cell_type": "code",
   "execution_count": null,
   "metadata": {},
   "outputs": [],
   "source": []
  },
  {
   "cell_type": "code",
   "execution_count": 51,
   "metadata": {},
   "outputs": [],
   "source": [
    "# Step 1: Read the dataset and basic dataframe exploration\n",
    "\n",
    "df = pd.read_csv('Dataset1.csv')"
   ]
  },
  {
   "cell_type": "code",
   "execution_count": 52,
   "metadata": {},
   "outputs": [
    {
     "data": {
      "text/html": [
       "<div>\n",
       "<style scoped>\n",
       "    .dataframe tbody tr th:only-of-type {\n",
       "        vertical-align: middle;\n",
       "    }\n",
       "\n",
       "    .dataframe tbody tr th {\n",
       "        vertical-align: top;\n",
       "    }\n",
       "\n",
       "    .dataframe thead th {\n",
       "        text-align: right;\n",
       "    }\n",
       "</style>\n",
       "<table border=\"1\" class=\"dataframe\">\n",
       "  <thead>\n",
       "    <tr style=\"text-align: right;\">\n",
       "      <th></th>\n",
       "      <th>Name</th>\n",
       "      <th>URL</th>\n",
       "      <th>Cuisines</th>\n",
       "      <th>Area</th>\n",
       "      <th>Timing</th>\n",
       "      <th>Full_Address</th>\n",
       "      <th>PhoneNumber</th>\n",
       "      <th>IsHomeDelivery</th>\n",
       "      <th>isTakeaway</th>\n",
       "      <th>isIndoorSeating</th>\n",
       "      <th>isVegOnly</th>\n",
       "      <th>DinnerRatings</th>\n",
       "      <th>DinnerReviews</th>\n",
       "      <th>DeliveryRatings</th>\n",
       "      <th>DeliveryReviews</th>\n",
       "      <th>KnownFor</th>\n",
       "      <th>PopularDishes</th>\n",
       "      <th>PeopleKnownFor</th>\n",
       "      <th>AverageCost</th>\n",
       "    </tr>\n",
       "  </thead>\n",
       "  <tbody>\n",
       "    <tr>\n",
       "      <th>0</th>\n",
       "      <td>Sri Udupi Park</td>\n",
       "      <td>https://www.zomato.com/bangalore/sri-udupi-par...</td>\n",
       "      <td>South Indian, North Indian, Chinese, Street Fo...</td>\n",
       "      <td>Indiranagar, Bangalore</td>\n",
       "      <td>7am â€“ 11pm (Today)</td>\n",
       "      <td>273, Monalisa, 6th Main, 100 Feet Road, Indira...</td>\n",
       "      <td>9.20E+11</td>\n",
       "      <td>1</td>\n",
       "      <td>1</td>\n",
       "      <td>1</td>\n",
       "      <td>1</td>\n",
       "      <td>4.00</td>\n",
       "      <td>462.0</td>\n",
       "      <td>4.10</td>\n",
       "      <td>16000.0</td>\n",
       "      <td>NaN</td>\n",
       "      <td>Filtered Coffee, Sambhar, Pav Bhaji, Gobi Manc...</td>\n",
       "      <td>Economical, Prompt Service, Hygiene, Quality F...</td>\n",
       "      <td>450.0</td>\n",
       "    </tr>\n",
       "    <tr>\n",
       "      <th>1</th>\n",
       "      <td>Meghana Foods</td>\n",
       "      <td>https://www.zomato.com/bangalore/meghana-foods...</td>\n",
       "      <td>Biryani, Andhra, North Indian, Seafood</td>\n",
       "      <td>Indiranagar, Bangalore</td>\n",
       "      <td>Opens at 6:30pm</td>\n",
       "      <td>544, First Floor, CMH Road, Near Indiranagar M...</td>\n",
       "      <td>9.18E+11</td>\n",
       "      <td>1</td>\n",
       "      <td>1</td>\n",
       "      <td>1</td>\n",
       "      <td>0</td>\n",
       "      <td>4.30</td>\n",
       "      <td>1654.0</td>\n",
       "      <td>4.30</td>\n",
       "      <td>28600.0</td>\n",
       "      <td>Spicy Chicken Biryani</td>\n",
       "      <td>Authentic Hyderabadi Biryani, Paneer Biryani, ...</td>\n",
       "      <td>Boneless Chicken Biryani, Ample Seating Area, ...</td>\n",
       "      <td>700.0</td>\n",
       "    </tr>\n",
       "    <tr>\n",
       "      <th>2</th>\n",
       "      <td>Donne Biriyani House</td>\n",
       "      <td>https://www.zomato.com/bangalore/donne-biriyan...</td>\n",
       "      <td>Biryani</td>\n",
       "      <td>Indiranagar, Bangalore</td>\n",
       "      <td>11am â€“ 11pm (Today)</td>\n",
       "      <td>8/ 9, 17th F Cross, 2nd Stage, Indiranagar, Ba...</td>\n",
       "      <td>9.19E+11</td>\n",
       "      <td>1</td>\n",
       "      <td>1</td>\n",
       "      <td>1</td>\n",
       "      <td>0</td>\n",
       "      <td>3.90</td>\n",
       "      <td>411.0</td>\n",
       "      <td>3.50</td>\n",
       "      <td>33200.0</td>\n",
       "      <td>NaN</td>\n",
       "      <td>NaN</td>\n",
       "      <td>Great Recommendations, Nice Taste, Great Ambia...</td>\n",
       "      <td>300.0</td>\n",
       "    </tr>\n",
       "    <tr>\n",
       "      <th>3</th>\n",
       "      <td>Domino's Pizza</td>\n",
       "      <td>https://www.zomato.com/bangalore/dominos-pizza...</td>\n",
       "      <td>Pizza, Fast Food, Desserts</td>\n",
       "      <td>Indiranagar, Bangalore</td>\n",
       "      <td>10:57am â€“ 12midnight (Today)</td>\n",
       "      <td>308, 2nd Stage, 100 Feet Road, Indiranagar, Ba...</td>\n",
       "      <td>9.20E+11</td>\n",
       "      <td>1</td>\n",
       "      <td>1</td>\n",
       "      <td>1</td>\n",
       "      <td>0</td>\n",
       "      <td>2.40</td>\n",
       "      <td>422.0</td>\n",
       "      <td>4.40</td>\n",
       "      <td>8205.0</td>\n",
       "      <td>NaN</td>\n",
       "      <td>Barbeque Chicken Pizza, Choco Lava Cake, White...</td>\n",
       "      <td>Value for Money, Packaging, Staff, Ambience, Food</td>\n",
       "      <td>400.0</td>\n",
       "    </tr>\n",
       "    <tr>\n",
       "      <th>4</th>\n",
       "      <td>KFC</td>\n",
       "      <td>https://www.zomato.com/bangalore/kfc-indiranagar</td>\n",
       "      <td>Burger, Fast Food, Biryani, Desserts, Beverages</td>\n",
       "      <td>Indiranagar, Bangalore</td>\n",
       "      <td>11am â€“ 11pm (Today)</td>\n",
       "      <td>38/1A, CMH Road, Indiranagar, Bangalore</td>\n",
       "      <td>9.20E+11</td>\n",
       "      <td>1</td>\n",
       "      <td>1</td>\n",
       "      <td>1</td>\n",
       "      <td>0</td>\n",
       "      <td>2.80</td>\n",
       "      <td>673.0</td>\n",
       "      <td>4.00</td>\n",
       "      <td>9148.0</td>\n",
       "      <td>NaN</td>\n",
       "      <td>Fiery Chicken, Chicken Popcorn, Rice Bowl, Wings</td>\n",
       "      <td>Elegantly Decorated, Great Recommendations, Vi...</td>\n",
       "      <td>400.0</td>\n",
       "    </tr>\n",
       "  </tbody>\n",
       "</table>\n",
       "</div>"
      ],
      "text/plain": [
       "                   Name                                                URL  \\\n",
       "0        Sri Udupi Park  https://www.zomato.com/bangalore/sri-udupi-par...   \n",
       "1         Meghana Foods  https://www.zomato.com/bangalore/meghana-foods...   \n",
       "2  Donne Biriyani House  https://www.zomato.com/bangalore/donne-biriyan...   \n",
       "3        Domino's Pizza  https://www.zomato.com/bangalore/dominos-pizza...   \n",
       "4                   KFC   https://www.zomato.com/bangalore/kfc-indiranagar   \n",
       "\n",
       "                                            Cuisines                    Area  \\\n",
       "0  South Indian, North Indian, Chinese, Street Fo...  Indiranagar, Bangalore   \n",
       "1             Biryani, Andhra, North Indian, Seafood  Indiranagar, Bangalore   \n",
       "2                                            Biryani  Indiranagar, Bangalore   \n",
       "3                         Pizza, Fast Food, Desserts  Indiranagar, Bangalore   \n",
       "4    Burger, Fast Food, Biryani, Desserts, Beverages  Indiranagar, Bangalore   \n",
       "\n",
       "                           Timing  \\\n",
       "0            7am â€“ 11pm (Today)   \n",
       "1                 Opens at 6:30pm   \n",
       "2           11am â€“ 11pm (Today)   \n",
       "3  10:57am â€“ 12midnight (Today)   \n",
       "4           11am â€“ 11pm (Today)   \n",
       "\n",
       "                                        Full_Address PhoneNumber  \\\n",
       "0  273, Monalisa, 6th Main, 100 Feet Road, Indira...    9.20E+11   \n",
       "1  544, First Floor, CMH Road, Near Indiranagar M...    9.18E+11   \n",
       "2  8/ 9, 17th F Cross, 2nd Stage, Indiranagar, Ba...    9.19E+11   \n",
       "3  308, 2nd Stage, 100 Feet Road, Indiranagar, Ba...    9.20E+11   \n",
       "4            38/1A, CMH Road, Indiranagar, Bangalore    9.20E+11   \n",
       "\n",
       "   IsHomeDelivery  isTakeaway  isIndoorSeating  isVegOnly DinnerRatings  \\\n",
       "0               1           1                1          1          4.00   \n",
       "1               1           1                1          0          4.30   \n",
       "2               1           1                1          0          3.90   \n",
       "3               1           1                1          0          2.40   \n",
       "4               1           1                1          0          2.80   \n",
       "\n",
       "   DinnerReviews DeliveryRatings  DeliveryReviews               KnownFor  \\\n",
       "0          462.0            4.10          16000.0                    NaN   \n",
       "1         1654.0            4.30          28600.0  Spicy Chicken Biryani   \n",
       "2          411.0            3.50          33200.0                    NaN   \n",
       "3          422.0            4.40           8205.0                    NaN   \n",
       "4          673.0            4.00           9148.0                    NaN   \n",
       "\n",
       "                                       PopularDishes  \\\n",
       "0  Filtered Coffee, Sambhar, Pav Bhaji, Gobi Manc...   \n",
       "1  Authentic Hyderabadi Biryani, Paneer Biryani, ...   \n",
       "2                                                NaN   \n",
       "3  Barbeque Chicken Pizza, Choco Lava Cake, White...   \n",
       "4   Fiery Chicken, Chicken Popcorn, Rice Bowl, Wings   \n",
       "\n",
       "                                      PeopleKnownFor  AverageCost  \n",
       "0  Economical, Prompt Service, Hygiene, Quality F...        450.0  \n",
       "1  Boneless Chicken Biryani, Ample Seating Area, ...        700.0  \n",
       "2  Great Recommendations, Nice Taste, Great Ambia...        300.0  \n",
       "3  Value for Money, Packaging, Staff, Ambience, Food        400.0  \n",
       "4  Elegantly Decorated, Great Recommendations, Vi...        400.0  "
      ]
     },
     "execution_count": 52,
     "metadata": {},
     "output_type": "execute_result"
    }
   ],
   "source": [
    "df.head()"
   ]
  },
  {
   "cell_type": "code",
   "execution_count": 53,
   "metadata": {},
   "outputs": [
    {
     "data": {
      "text/plain": [
       "Index(['Name', 'URL', 'Cuisines', 'Area', 'Timing', 'Full_Address',\n",
       "       'PhoneNumber', 'IsHomeDelivery', 'isTakeaway', 'isIndoorSeating',\n",
       "       'isVegOnly', 'DinnerRatings', 'DinnerReviews', 'DeliveryRatings',\n",
       "       'DeliveryReviews', 'KnownFor', 'PopularDishes', 'PeopleKnownFor',\n",
       "       'AverageCost'],\n",
       "      dtype='object')"
      ]
     },
     "execution_count": 53,
     "metadata": {},
     "output_type": "execute_result"
    }
   ],
   "source": [
    "df.columns"
   ]
  },
  {
   "cell_type": "code",
   "execution_count": 54,
   "metadata": {},
   "outputs": [
    {
     "data": {
      "text/plain": [
       "(8923, 19)"
      ]
     },
     "execution_count": 54,
     "metadata": {},
     "output_type": "execute_result"
    }
   ],
   "source": [
    "df.shape"
   ]
  },
  {
   "cell_type": "code",
   "execution_count": null,
   "metadata": {},
   "outputs": [],
   "source": []
  },
  {
   "cell_type": "code",
   "execution_count": 55,
   "metadata": {},
   "outputs": [],
   "source": [
    "# ML models require examples i.e. rows. A good thumb rule to use is 100 rows per column. Our dataset fits that."
   ]
  },
  {
   "cell_type": "code",
   "execution_count": 56,
   "metadata": {},
   "outputs": [
    {
     "data": {
      "text/html": [
       "<div>\n",
       "<style scoped>\n",
       "    .dataframe tbody tr th:only-of-type {\n",
       "        vertical-align: middle;\n",
       "    }\n",
       "\n",
       "    .dataframe tbody tr th {\n",
       "        vertical-align: top;\n",
       "    }\n",
       "\n",
       "    .dataframe thead th {\n",
       "        text-align: right;\n",
       "    }\n",
       "</style>\n",
       "<table border=\"1\" class=\"dataframe\">\n",
       "  <thead>\n",
       "    <tr style=\"text-align: right;\">\n",
       "      <th></th>\n",
       "      <th>Name</th>\n",
       "      <th>Cuisines</th>\n",
       "      <th>Area</th>\n",
       "      <th>Timing</th>\n",
       "      <th>IsHomeDelivery</th>\n",
       "      <th>isTakeaway</th>\n",
       "      <th>isIndoorSeating</th>\n",
       "      <th>DinnerRatings</th>\n",
       "      <th>DinnerReviews</th>\n",
       "      <th>DeliveryRatings</th>\n",
       "      <th>DeliveryReviews</th>\n",
       "      <th>AverageCost</th>\n",
       "    </tr>\n",
       "  </thead>\n",
       "  <tbody>\n",
       "    <tr>\n",
       "      <th>0</th>\n",
       "      <td>Sri Udupi Park</td>\n",
       "      <td>South Indian, North Indian, Chinese, Street Fo...</td>\n",
       "      <td>Indiranagar, Bangalore</td>\n",
       "      <td>7am â€“ 11pm (Today)</td>\n",
       "      <td>1</td>\n",
       "      <td>1</td>\n",
       "      <td>1</td>\n",
       "      <td>4.00</td>\n",
       "      <td>462.0</td>\n",
       "      <td>4.10</td>\n",
       "      <td>16000.0</td>\n",
       "      <td>450.0</td>\n",
       "    </tr>\n",
       "    <tr>\n",
       "      <th>1</th>\n",
       "      <td>Meghana Foods</td>\n",
       "      <td>Biryani, Andhra, North Indian, Seafood</td>\n",
       "      <td>Indiranagar, Bangalore</td>\n",
       "      <td>Opens at 6:30pm</td>\n",
       "      <td>1</td>\n",
       "      <td>1</td>\n",
       "      <td>1</td>\n",
       "      <td>4.30</td>\n",
       "      <td>1654.0</td>\n",
       "      <td>4.30</td>\n",
       "      <td>28600.0</td>\n",
       "      <td>700.0</td>\n",
       "    </tr>\n",
       "    <tr>\n",
       "      <th>2</th>\n",
       "      <td>Donne Biriyani House</td>\n",
       "      <td>Biryani</td>\n",
       "      <td>Indiranagar, Bangalore</td>\n",
       "      <td>11am â€“ 11pm (Today)</td>\n",
       "      <td>1</td>\n",
       "      <td>1</td>\n",
       "      <td>1</td>\n",
       "      <td>3.90</td>\n",
       "      <td>411.0</td>\n",
       "      <td>3.50</td>\n",
       "      <td>33200.0</td>\n",
       "      <td>300.0</td>\n",
       "    </tr>\n",
       "    <tr>\n",
       "      <th>3</th>\n",
       "      <td>Domino's Pizza</td>\n",
       "      <td>Pizza, Fast Food, Desserts</td>\n",
       "      <td>Indiranagar, Bangalore</td>\n",
       "      <td>10:57am â€“ 12midnight (Today)</td>\n",
       "      <td>1</td>\n",
       "      <td>1</td>\n",
       "      <td>1</td>\n",
       "      <td>2.40</td>\n",
       "      <td>422.0</td>\n",
       "      <td>4.40</td>\n",
       "      <td>8205.0</td>\n",
       "      <td>400.0</td>\n",
       "    </tr>\n",
       "    <tr>\n",
       "      <th>4</th>\n",
       "      <td>KFC</td>\n",
       "      <td>Burger, Fast Food, Biryani, Desserts, Beverages</td>\n",
       "      <td>Indiranagar, Bangalore</td>\n",
       "      <td>11am â€“ 11pm (Today)</td>\n",
       "      <td>1</td>\n",
       "      <td>1</td>\n",
       "      <td>1</td>\n",
       "      <td>2.80</td>\n",
       "      <td>673.0</td>\n",
       "      <td>4.00</td>\n",
       "      <td>9148.0</td>\n",
       "      <td>400.0</td>\n",
       "    </tr>\n",
       "  </tbody>\n",
       "</table>\n",
       "</div>"
      ],
      "text/plain": [
       "                   Name                                           Cuisines  \\\n",
       "0        Sri Udupi Park  South Indian, North Indian, Chinese, Street Fo...   \n",
       "1         Meghana Foods             Biryani, Andhra, North Indian, Seafood   \n",
       "2  Donne Biriyani House                                            Biryani   \n",
       "3        Domino's Pizza                         Pizza, Fast Food, Desserts   \n",
       "4                   KFC    Burger, Fast Food, Biryani, Desserts, Beverages   \n",
       "\n",
       "                     Area                          Timing  IsHomeDelivery  \\\n",
       "0  Indiranagar, Bangalore            7am â€“ 11pm (Today)               1   \n",
       "1  Indiranagar, Bangalore                 Opens at 6:30pm               1   \n",
       "2  Indiranagar, Bangalore           11am â€“ 11pm (Today)               1   \n",
       "3  Indiranagar, Bangalore  10:57am â€“ 12midnight (Today)               1   \n",
       "4  Indiranagar, Bangalore           11am â€“ 11pm (Today)               1   \n",
       "\n",
       "   isTakeaway  isIndoorSeating DinnerRatings  DinnerReviews DeliveryRatings  \\\n",
       "0           1                1          4.00          462.0            4.10   \n",
       "1           1                1          4.30         1654.0            4.30   \n",
       "2           1                1          3.90          411.0            3.50   \n",
       "3           1                1          2.40          422.0            4.40   \n",
       "4           1                1          2.80          673.0            4.00   \n",
       "\n",
       "   DeliveryReviews  AverageCost  \n",
       "0          16000.0        450.0  \n",
       "1          28600.0        700.0  \n",
       "2          33200.0        300.0  \n",
       "3           8205.0        400.0  \n",
       "4           9148.0        400.0  "
      ]
     },
     "execution_count": 56,
     "metadata": {},
     "output_type": "execute_result"
    }
   ],
   "source": [
    "df=df.drop(['URL','Full_Address','PhoneNumber','isVegOnly', 'KnownFor', 'PopularDishes', 'PeopleKnownFor'],axis=1)\n",
    "df.head()"
   ]
  },
  {
   "cell_type": "code",
   "execution_count": 57,
   "metadata": {},
   "outputs": [
    {
     "data": {
      "text/plain": [
       "(8923, 12)"
      ]
     },
     "execution_count": 57,
     "metadata": {},
     "output_type": "execute_result"
    }
   ],
   "source": [
    "df.shape"
   ]
  },
  {
   "cell_type": "code",
   "execution_count": 58,
   "metadata": {},
   "outputs": [
    {
     "name": "stdout",
     "output_type": "stream",
     "text": [
      "\n",
      "Step 2: Summary Statistics of Numeric Columns\n",
      "<class 'pandas.core.frame.DataFrame'>\n",
      "RangeIndex: 8923 entries, 0 to 8922\n",
      "Data columns (total 12 columns):\n",
      " #   Column           Non-Null Count  Dtype  \n",
      "---  ------           --------------  -----  \n",
      " 0   Name             8923 non-null   object \n",
      " 1   Cuisines         8923 non-null   object \n",
      " 2   Area             8923 non-null   object \n",
      " 3   Timing           5820 non-null   object \n",
      " 4   IsHomeDelivery   8923 non-null   int64  \n",
      " 5   isTakeaway       8923 non-null   int64  \n",
      " 6   isIndoorSeating  8923 non-null   int64  \n",
      " 7   DinnerRatings    8923 non-null   object \n",
      " 8   DinnerReviews    8923 non-null   float64\n",
      " 9   DeliveryRatings  8923 non-null   object \n",
      " 10  DeliveryReviews  8923 non-null   float64\n",
      " 11  AverageCost      8923 non-null   float64\n",
      "dtypes: float64(3), int64(3), object(6)\n",
      "memory usage: 836.7+ KB\n"
     ]
    }
   ],
   "source": [
    "print(\"\\nStep 2: Summary Statistics of Numeric Columns\")\n",
    "df.info()"
   ]
  },
  {
   "cell_type": "code",
   "execution_count": 59,
   "metadata": {},
   "outputs": [],
   "source": [
    "# 8923 rows in the dataset. Timing has missing values.\n"
   ]
  },
  {
   "cell_type": "code",
   "execution_count": 60,
   "metadata": {},
   "outputs": [
    {
     "data": {
      "text/plain": [
       "(8922, 12)"
      ]
     },
     "execution_count": 60,
     "metadata": {},
     "output_type": "execute_result"
    }
   ],
   "source": [
    "df.drop_duplicates(inplace=True)\n",
    "df.shape"
   ]
  },
  {
   "cell_type": "code",
   "execution_count": 61,
   "metadata": {},
   "outputs": [],
   "source": [
    "#Clean each and every column"
   ]
  },
  {
   "cell_type": "code",
   "execution_count": 62,
   "metadata": {},
   "outputs": [
    {
     "data": {
      "text/html": [
       "<div>\n",
       "<style scoped>\n",
       "    .dataframe tbody tr th:only-of-type {\n",
       "        vertical-align: middle;\n",
       "    }\n",
       "\n",
       "    .dataframe tbody tr th {\n",
       "        vertical-align: top;\n",
       "    }\n",
       "\n",
       "    .dataframe thead th {\n",
       "        text-align: right;\n",
       "    }\n",
       "</style>\n",
       "<table border=\"1\" class=\"dataframe\">\n",
       "  <thead>\n",
       "    <tr style=\"text-align: right;\">\n",
       "      <th></th>\n",
       "      <th>IsHomeDelivery</th>\n",
       "      <th>isTakeaway</th>\n",
       "      <th>isIndoorSeating</th>\n",
       "      <th>DinnerReviews</th>\n",
       "      <th>DeliveryReviews</th>\n",
       "      <th>AverageCost</th>\n",
       "    </tr>\n",
       "  </thead>\n",
       "  <tbody>\n",
       "    <tr>\n",
       "      <th>count</th>\n",
       "      <td>8922.000000</td>\n",
       "      <td>8922.000000</td>\n",
       "      <td>8922.000000</td>\n",
       "      <td>8922.000000</td>\n",
       "      <td>8922.000000</td>\n",
       "      <td>8922.000000</td>\n",
       "    </tr>\n",
       "    <tr>\n",
       "      <th>mean</th>\n",
       "      <td>0.997870</td>\n",
       "      <td>0.660054</td>\n",
       "      <td>0.442726</td>\n",
       "      <td>157.123627</td>\n",
       "      <td>2014.913696</td>\n",
       "      <td>340.252186</td>\n",
       "    </tr>\n",
       "    <tr>\n",
       "      <th>std</th>\n",
       "      <td>0.046101</td>\n",
       "      <td>0.473717</td>\n",
       "      <td>0.496737</td>\n",
       "      <td>731.873353</td>\n",
       "      <td>5524.706457</td>\n",
       "      <td>308.345734</td>\n",
       "    </tr>\n",
       "    <tr>\n",
       "      <th>min</th>\n",
       "      <td>0.000000</td>\n",
       "      <td>0.000000</td>\n",
       "      <td>0.000000</td>\n",
       "      <td>0.000000</td>\n",
       "      <td>0.000000</td>\n",
       "      <td>50.000000</td>\n",
       "    </tr>\n",
       "    <tr>\n",
       "      <th>25%</th>\n",
       "      <td>1.000000</td>\n",
       "      <td>0.000000</td>\n",
       "      <td>0.000000</td>\n",
       "      <td>0.000000</td>\n",
       "      <td>42.000000</td>\n",
       "      <td>150.000000</td>\n",
       "    </tr>\n",
       "    <tr>\n",
       "      <th>50%</th>\n",
       "      <td>1.000000</td>\n",
       "      <td>1.000000</td>\n",
       "      <td>0.000000</td>\n",
       "      <td>0.000000</td>\n",
       "      <td>279.000000</td>\n",
       "      <td>250.000000</td>\n",
       "    </tr>\n",
       "    <tr>\n",
       "      <th>75%</th>\n",
       "      <td>1.000000</td>\n",
       "      <td>1.000000</td>\n",
       "      <td>1.000000</td>\n",
       "      <td>43.000000</td>\n",
       "      <td>1493.750000</td>\n",
       "      <td>400.000000</td>\n",
       "    </tr>\n",
       "    <tr>\n",
       "      <th>max</th>\n",
       "      <td>1.000000</td>\n",
       "      <td>1.000000</td>\n",
       "      <td>1.000000</td>\n",
       "      <td>26500.000000</td>\n",
       "      <td>99600.000000</td>\n",
       "      <td>4200.000000</td>\n",
       "    </tr>\n",
       "  </tbody>\n",
       "</table>\n",
       "</div>"
      ],
      "text/plain": [
       "       IsHomeDelivery   isTakeaway  isIndoorSeating  DinnerReviews  \\\n",
       "count     8922.000000  8922.000000      8922.000000    8922.000000   \n",
       "mean         0.997870     0.660054         0.442726     157.123627   \n",
       "std          0.046101     0.473717         0.496737     731.873353   \n",
       "min          0.000000     0.000000         0.000000       0.000000   \n",
       "25%          1.000000     0.000000         0.000000       0.000000   \n",
       "50%          1.000000     1.000000         0.000000       0.000000   \n",
       "75%          1.000000     1.000000         1.000000      43.000000   \n",
       "max          1.000000     1.000000         1.000000   26500.000000   \n",
       "\n",
       "       DeliveryReviews  AverageCost  \n",
       "count      8922.000000  8922.000000  \n",
       "mean       2014.913696   340.252186  \n",
       "std        5524.706457   308.345734  \n",
       "min           0.000000    50.000000  \n",
       "25%          42.000000   150.000000  \n",
       "50%         279.000000   250.000000  \n",
       "75%        1493.750000   400.000000  \n",
       "max       99600.000000  4200.000000  "
      ]
     },
     "execution_count": 62,
     "metadata": {},
     "output_type": "execute_result"
    }
   ],
   "source": [
    "df.describe()"
   ]
  },
  {
   "cell_type": "code",
   "execution_count": 63,
   "metadata": {},
   "outputs": [
    {
     "data": {
      "text/plain": [
       "1    8903\n",
       "0      19\n",
       "Name: IsHomeDelivery, dtype: int64"
      ]
     },
     "execution_count": 63,
     "metadata": {},
     "output_type": "execute_result"
    }
   ],
   "source": [
    "df.IsHomeDelivery.value_counts()"
   ]
  },
  {
   "cell_type": "code",
   "execution_count": 64,
   "metadata": {},
   "outputs": [
    {
     "data": {
      "text/plain": [
       "1    5889\n",
       "0    3033\n",
       "Name: isTakeaway, dtype: int64"
      ]
     },
     "execution_count": 64,
     "metadata": {},
     "output_type": "execute_result"
    }
   ],
   "source": [
    "df.isTakeaway.value_counts()"
   ]
  },
  {
   "cell_type": "code",
   "execution_count": 65,
   "metadata": {},
   "outputs": [
    {
     "data": {
      "text/plain": [
       "0    4972\n",
       "1    3950\n",
       "Name: isIndoorSeating, dtype: int64"
      ]
     },
     "execution_count": 65,
     "metadata": {},
     "output_type": "execute_result"
    }
   ],
   "source": [
    "df.isIndoorSeating.value_counts()"
   ]
  },
  {
   "cell_type": "code",
   "execution_count": 66,
   "metadata": {},
   "outputs": [
    {
     "data": {
      "image/png": "[encoded data removed]",
      "text/plain": [
       "<Figure size 576x360 with 1 Axes>"
      ]
     },
     "metadata": {
      "needs_background": "light"
     },
     "output_type": "display_data"
    }
   ],
   "source": [
    "# Univariate Histogram\n",
    "plt.figure(figsize=(8, 5))\n",
    "sns.histplot(df['AverageCost'], bins=20, kde=True)\n",
    "plt.title('Histogram of AverageCost')\n",
    "plt.xlabel('AverageCost')\n",
    "plt.ylabel('Frequency')\n",
    "plt.show()"
   ]
  },
  {
   "cell_type": "code",
   "execution_count": 67,
   "metadata": {},
   "outputs": [
    {
     "data": {
      "image/png": "[encoded data removed]",
      "text/plain": [
       "<Figure size 576x360 with 1 Axes>"
      ]
     },
     "metadata": {
      "needs_background": "light"
     },
     "output_type": "display_data"
    }
   ],
   "source": [
    "# Univariate Box Plot\n",
    "plt.figure(figsize=(8, 5))\n",
    "sns.boxplot(x=df['AverageCost'])\n",
    "plt.title('Box Plot of AverageCost')\n",
    "plt.xlabel('AverageCost')\n",
    "plt.show()"
   ]
  },
  {
   "cell_type": "code",
   "execution_count": 68,
   "metadata": {},
   "outputs": [
    {
     "data": {
      "image/png": "[encoded data removed]",
      "text/plain": [
       "<Figure size 576x360 with 1 Axes>"
      ]
     },
     "metadata": {
      "needs_background": "light"
     },
     "output_type": "display_data"
    }
   ],
   "source": [
    "# Univariate Box Plot\n",
    "plt.figure(figsize=(8, 5))\n",
    "sns.boxplot(x=df['DeliveryReviews'])\n",
    "plt.title('Box Plot of Delivery Reviews')\n",
    "plt.xlabel('DeliveryReviews')\n",
    "plt.show()"
   ]
  },
  {
   "cell_type": "code",
   "execution_count": 69,
   "metadata": {
    "scrolled": false
   },
   "outputs": [
    {
     "data": {
      "text/html": [
       "<div>\n",
       "<style scoped>\n",
       "    .dataframe tbody tr th:only-of-type {\n",
       "        vertical-align: middle;\n",
       "    }\n",
       "\n",
       "    .dataframe tbody tr th {\n",
       "        vertical-align: top;\n",
       "    }\n",
       "\n",
       "    .dataframe thead th {\n",
       "        text-align: right;\n",
       "    }\n",
       "</style>\n",
       "<table border=\"1\" class=\"dataframe\">\n",
       "  <thead>\n",
       "    <tr style=\"text-align: right;\">\n",
       "      <th></th>\n",
       "      <th>Name</th>\n",
       "      <th>Cuisines</th>\n",
       "      <th>Area</th>\n",
       "      <th>Timing</th>\n",
       "      <th>IsHomeDelivery</th>\n",
       "      <th>isTakeaway</th>\n",
       "      <th>isIndoorSeating</th>\n",
       "      <th>DinnerRatings</th>\n",
       "      <th>DinnerReviews</th>\n",
       "      <th>DeliveryRatings</th>\n",
       "      <th>DeliveryReviews</th>\n",
       "      <th>AverageCost</th>\n",
       "    </tr>\n",
       "  </thead>\n",
       "  <tbody>\n",
       "    <tr>\n",
       "      <th>0</th>\n",
       "      <td>Sri Udupi Park</td>\n",
       "      <td>South Indian, North Indian, Chinese, Street Fo...</td>\n",
       "      <td>Indiranagar, Bangalore</td>\n",
       "      <td>7am â€“ 11pm (Today)</td>\n",
       "      <td>1</td>\n",
       "      <td>1</td>\n",
       "      <td>1</td>\n",
       "      <td>4.00</td>\n",
       "      <td>462.0</td>\n",
       "      <td>4.10</td>\n",
       "      <td>16000.0</td>\n",
       "      <td>450.0</td>\n",
       "    </tr>\n",
       "    <tr>\n",
       "      <th>1</th>\n",
       "      <td>Meghana Foods</td>\n",
       "      <td>Biryani, Andhra, North Indian, Seafood</td>\n",
       "      <td>Indiranagar, Bangalore</td>\n",
       "      <td>Opens at 6:30pm</td>\n",
       "      <td>1</td>\n",
       "      <td>1</td>\n",
       "      <td>1</td>\n",
       "      <td>4.30</td>\n",
       "      <td>1654.0</td>\n",
       "      <td>4.30</td>\n",
       "      <td>28600.0</td>\n",
       "      <td>700.0</td>\n",
       "    </tr>\n",
       "    <tr>\n",
       "      <th>2</th>\n",
       "      <td>Donne Biriyani House</td>\n",
       "      <td>Biryani</td>\n",
       "      <td>Indiranagar, Bangalore</td>\n",
       "      <td>11am â€“ 11pm (Today)</td>\n",
       "      <td>1</td>\n",
       "      <td>1</td>\n",
       "      <td>1</td>\n",
       "      <td>3.90</td>\n",
       "      <td>411.0</td>\n",
       "      <td>3.50</td>\n",
       "      <td>33200.0</td>\n",
       "      <td>300.0</td>\n",
       "    </tr>\n",
       "    <tr>\n",
       "      <th>3</th>\n",
       "      <td>Domino's Pizza</td>\n",
       "      <td>Pizza, Fast Food, Desserts</td>\n",
       "      <td>Indiranagar, Bangalore</td>\n",
       "      <td>10:57am â€“ 12midnight (Today)</td>\n",
       "      <td>1</td>\n",
       "      <td>1</td>\n",
       "      <td>1</td>\n",
       "      <td>2.40</td>\n",
       "      <td>422.0</td>\n",
       "      <td>4.40</td>\n",
       "      <td>8205.0</td>\n",
       "      <td>400.0</td>\n",
       "    </tr>\n",
       "    <tr>\n",
       "      <th>4</th>\n",
       "      <td>KFC</td>\n",
       "      <td>Burger, Fast Food, Biryani, Desserts, Beverages</td>\n",
       "      <td>Indiranagar, Bangalore</td>\n",
       "      <td>11am â€“ 11pm (Today)</td>\n",
       "      <td>1</td>\n",
       "      <td>1</td>\n",
       "      <td>1</td>\n",
       "      <td>2.80</td>\n",
       "      <td>673.0</td>\n",
       "      <td>4.00</td>\n",
       "      <td>9148.0</td>\n",
       "      <td>400.0</td>\n",
       "    </tr>\n",
       "  </tbody>\n",
       "</table>\n",
       "</div>"
      ],
      "text/plain": [
       "                   Name                                           Cuisines  \\\n",
       "0        Sri Udupi Park  South Indian, North Indian, Chinese, Street Fo...   \n",
       "1         Meghana Foods             Biryani, Andhra, North Indian, Seafood   \n",
       "2  Donne Biriyani House                                            Biryani   \n",
       "3        Domino's Pizza                         Pizza, Fast Food, Desserts   \n",
       "4                   KFC    Burger, Fast Food, Biryani, Desserts, Beverages   \n",
       "\n",
       "                     Area                          Timing  IsHomeDelivery  \\\n",
       "0  Indiranagar, Bangalore            7am â€“ 11pm (Today)               1   \n",
       "1  Indiranagar, Bangalore                 Opens at 6:30pm               1   \n",
       "2  Indiranagar, Bangalore           11am â€“ 11pm (Today)               1   \n",
       "3  Indiranagar, Bangalore  10:57am â€“ 12midnight (Today)               1   \n",
       "4  Indiranagar, Bangalore           11am â€“ 11pm (Today)               1   \n",
       "\n",
       "   isTakeaway  isIndoorSeating DinnerRatings  DinnerReviews DeliveryRatings  \\\n",
       "0           1                1          4.00          462.0            4.10   \n",
       "1           1                1          4.30         1654.0            4.30   \n",
       "2           1                1          3.90          411.0            3.50   \n",
       "3           1                1          2.40          422.0            4.40   \n",
       "4           1                1          2.80          673.0            4.00   \n",
       "\n",
       "   DeliveryReviews  AverageCost  \n",
       "0          16000.0        450.0  \n",
       "1          28600.0        700.0  \n",
       "2          33200.0        300.0  \n",
       "3           8205.0        400.0  \n",
       "4           9148.0        400.0  "
      ]
     },
     "execution_count": 69,
     "metadata": {},
     "output_type": "execute_result"
    }
   ],
   "source": [
    "df.head()"
   ]
  },
  {
   "cell_type": "code",
   "execution_count": 70,
   "metadata": {},
   "outputs": [
    {
     "data": {
      "image/png": "[encoded data removed]",
      "text/plain": [
       "<Figure size 720x432 with 1 Axes>"
      ]
     },
     "metadata": {
      "needs_background": "light"
     },
     "output_type": "display_data"
    }
   ],
   "source": [
    "# Bivariate Scatter Plot\n",
    "plt.figure(figsize=(10, 6))\n",
    "sns.scatterplot(x='DeliveryRatings', y='AverageCost',  data=df)\n",
    "plt.title('Scatter Plot of Delivery Ratings vs Dinner Ratings (colored by AverageCost)')\n",
    "plt.xlabel('DinnerRatings')\n",
    "plt.ylabel('AverageCost')\n",
    "\n",
    "plt.show()"
   ]
  },
  {
   "cell_type": "code",
   "execution_count": 71,
   "metadata": {},
   "outputs": [],
   "source": [
    "# Step 5: Observations from data visualization\n",
    "# - There are ID columns which need to be removed\n",
    "# - There are missing values that require rows to be dropped\n",
    "# - Outliers require rows to be trimmed\n",
    "# - Age seems to have a normal distribution with most values clustered around the mean.\n",
    "# - Region is categorical with four distinct values, and the proportions are relatively balanced.\n",
    "# - BMI shows some outliers towards the higher end of the distribution.\n",
    "# - Claim amount is positively correlated with age but seems to have a wider spread for smokers."
   ]
  },
  {
   "cell_type": "markdown",
   "metadata": {},
   "source": [
    "# Data Preprocessing"
   ]
  },
  {
   "cell_type": "code",
   "execution_count": 72,
   "metadata": {},
   "outputs": [
    {
     "data": {
      "text/plain": [
       "(8922, 12)"
      ]
     },
     "execution_count": 72,
     "metadata": {},
     "output_type": "execute_result"
    }
   ],
   "source": [
    "df.shape"
   ]
  },
  {
   "cell_type": "code",
   "execution_count": 73,
   "metadata": {},
   "outputs": [],
   "source": [
    "# Step 2: Remove rows with missing values\n",
    "df = df.dropna()"
   ]
  },
  {
   "cell_type": "code",
   "execution_count": 74,
   "metadata": {},
   "outputs": [
    {
     "data": {
      "text/plain": [
       "(5819, 12)"
      ]
     },
     "execution_count": 74,
     "metadata": {},
     "output_type": "execute_result"
    }
   ],
   "source": [
    "df.shape"
   ]
  },
  {
   "cell_type": "code",
   "execution_count": 75,
   "metadata": {},
   "outputs": [
    {
     "data": {
      "text/html": [
       "<div>\n",
       "<style scoped>\n",
       "    .dataframe tbody tr th:only-of-type {\n",
       "        vertical-align: middle;\n",
       "    }\n",
       "\n",
       "    .dataframe tbody tr th {\n",
       "        vertical-align: top;\n",
       "    }\n",
       "\n",
       "    .dataframe thead th {\n",
       "        text-align: right;\n",
       "    }\n",
       "</style>\n",
       "<table border=\"1\" class=\"dataframe\">\n",
       "  <thead>\n",
       "    <tr style=\"text-align: right;\">\n",
       "      <th></th>\n",
       "      <th>DinnerReviews</th>\n",
       "      <th>DeliveryReviews</th>\n",
       "      <th>AverageCost</th>\n",
       "    </tr>\n",
       "  </thead>\n",
       "  <tbody>\n",
       "    <tr>\n",
       "      <th>0</th>\n",
       "      <td>462.0</td>\n",
       "      <td>16000.0</td>\n",
       "      <td>450.0</td>\n",
       "    </tr>\n",
       "    <tr>\n",
       "      <th>1</th>\n",
       "      <td>1654.0</td>\n",
       "      <td>28600.0</td>\n",
       "      <td>700.0</td>\n",
       "    </tr>\n",
       "    <tr>\n",
       "      <th>2</th>\n",
       "      <td>411.0</td>\n",
       "      <td>33200.0</td>\n",
       "      <td>300.0</td>\n",
       "    </tr>\n",
       "    <tr>\n",
       "      <th>3</th>\n",
       "      <td>422.0</td>\n",
       "      <td>8205.0</td>\n",
       "      <td>400.0</td>\n",
       "    </tr>\n",
       "    <tr>\n",
       "      <th>4</th>\n",
       "      <td>673.0</td>\n",
       "      <td>9148.0</td>\n",
       "      <td>400.0</td>\n",
       "    </tr>\n",
       "  </tbody>\n",
       "</table>\n",
       "</div>"
      ],
      "text/plain": [
       "   DinnerReviews  DeliveryReviews  AverageCost\n",
       "0          462.0          16000.0        450.0\n",
       "1         1654.0          28600.0        700.0\n",
       "2          411.0          33200.0        300.0\n",
       "3          422.0           8205.0        400.0\n",
       "4          673.0           9148.0        400.0"
      ]
     },
     "execution_count": 75,
     "metadata": {},
     "output_type": "execute_result"
    }
   ],
   "source": [
    "# Step 3: Split numeric columns into X\n",
    "df_num = df[['DinnerReviews','DeliveryReviews','AverageCost']]\n",
    "df_num.head()"
   ]
  },
  {
   "cell_type": "code",
   "execution_count": 76,
   "metadata": {},
   "outputs": [],
   "source": [
    "# outlier filter\n",
    "\n",
    "# get thresholds for outlier\n",
    "Q1 = df_num.quantile(0.25)\n",
    "Q3 = df_num.quantile(0.75)\n",
    "IQR = Q3 - Q1\n",
    "lower_bound = Q1 - 1.5 * IQR\n",
    "upper_bound = Q3 + 1.5 * IQR"
   ]
  },
  {
   "cell_type": "code",
   "execution_count": 77,
   "metadata": {
    "scrolled": true
   },
   "outputs": [
    {
     "data": {
      "text/plain": [
       "DinnerReviews      -193.50\n",
       "DeliveryReviews   -3143.75\n",
       "AverageCost        -250.00\n",
       "dtype: float64"
      ]
     },
     "execution_count": 77,
     "metadata": {},
     "output_type": "execute_result"
    }
   ],
   "source": [
    "lower_bound"
   ]
  },
  {
   "cell_type": "code",
   "execution_count": 78,
   "metadata": {},
   "outputs": [
    {
     "data": {
      "text/plain": [
       "DinnerReviews       322.50\n",
       "DeliveryReviews    5466.25\n",
       "AverageCost         950.00\n",
       "dtype: float64"
      ]
     },
     "execution_count": 78,
     "metadata": {},
     "output_type": "execute_result"
    }
   ],
   "source": [
    "upper_bound"
   ]
  },
  {
   "cell_type": "code",
   "execution_count": 79,
   "metadata": {},
   "outputs": [],
   "source": [
    "df = df[~((df_num < lower_bound) | (df_num > upper_bound)).any(axis=1)]"
   ]
  },
  {
   "cell_type": "code",
   "execution_count": 80,
   "metadata": {},
   "outputs": [
    {
     "data": {
      "text/plain": [
       "(4449, 12)"
      ]
     },
     "execution_count": 80,
     "metadata": {},
     "output_type": "execute_result"
    }
   ],
   "source": [
    "df.shape"
   ]
  },
  {
   "cell_type": "code",
   "execution_count": 81,
   "metadata": {},
   "outputs": [
    {
     "data": {
      "text/plain": [
       "<AxesSubplot:xlabel='DeliveryReviews'>"
      ]
     },
     "execution_count": 81,
     "metadata": {},
     "output_type": "execute_result"
    },
    {
     "data": {
      "image/png": "[encoded data removed]",
      "text/plain": [
       "<Figure size 432x288 with 1 Axes>"
      ]
     },
     "metadata": {
      "needs_background": "light"
     },
     "output_type": "display_data"
    }
   ],
   "source": [
    "sns.boxplot(x=df['DeliveryReviews'])"
   ]
  },
  {
   "cell_type": "code",
   "execution_count": 82,
   "metadata": {},
   "outputs": [
    {
     "data": {
      "text/plain": [
       "(4449, 3)"
      ]
     },
     "execution_count": 82,
     "metadata": {},
     "output_type": "execute_result"
    }
   ],
   "source": [
    "df_num = df[['DinnerReviews','DeliveryReviews','AverageCost']]\n",
    "df_num.shape"
   ]
  },
  {
   "cell_type": "code",
   "execution_count": 83,
   "metadata": {},
   "outputs": [],
   "source": [
    "# outlier filter\n",
    "\n",
    "# get thresholds for outlier\n",
    "Q1 = df_num.quantile(0.25)\n",
    "Q3 = df_num.quantile(0.75)\n",
    "IQR = Q3 - Q1\n",
    "lower_bound = Q1 - 1.5 * IQR\n",
    "upper_bound = Q3 + 1.5 * IQR"
   ]
  },
  {
   "cell_type": "code",
   "execution_count": 84,
   "metadata": {},
   "outputs": [
    {
     "data": {
      "text/plain": [
       "DinnerReviews        87.5\n",
       "DeliveryReviews    2669.0\n",
       "AverageCost         700.0\n",
       "dtype: float64"
      ]
     },
     "execution_count": 84,
     "metadata": {},
     "output_type": "execute_result"
    }
   ],
   "source": [
    "upper_bound"
   ]
  },
  {
   "cell_type": "code",
   "execution_count": 85,
   "metadata": {},
   "outputs": [
    {
     "data": {
      "text/plain": [
       "0.0      1797\n",
       "1.0       259\n",
       "2.0       148\n",
       "3.0       119\n",
       "4.0        82\n",
       "         ... \n",
       "264.0       1\n",
       "242.0       1\n",
       "137.0       1\n",
       "310.0       1\n",
       "291.0       1\n",
       "Name: DinnerReviews, Length: 285, dtype: int64"
      ]
     },
     "execution_count": 85,
     "metadata": {},
     "output_type": "execute_result"
    }
   ],
   "source": [
    "df['DinnerReviews'].value_counts()"
   ]
  },
  {
   "cell_type": "code",
   "execution_count": 86,
   "metadata": {},
   "outputs": [],
   "source": [
    "df = df[~((df_num < lower_bound) | (df_num > upper_bound)).any(axis=1)]"
   ]
  },
  {
   "cell_type": "code",
   "execution_count": 87,
   "metadata": {},
   "outputs": [
    {
     "data": {
      "text/plain": [
       "(3510, 12)"
      ]
     },
     "execution_count": 87,
     "metadata": {},
     "output_type": "execute_result"
    }
   ],
   "source": [
    "df.shape"
   ]
  },
  {
   "cell_type": "code",
   "execution_count": 88,
   "metadata": {},
   "outputs": [
    {
     "data": {
      "text/plain": [
       "0.0     1670\n",
       "1.0      256\n",
       "2.0      143\n",
       "3.0      115\n",
       "4.0       75\n",
       "        ... \n",
       "65.0       3\n",
       "57.0       3\n",
       "49.0       3\n",
       "79.0       2\n",
       "84.0       2\n",
       "Name: DinnerReviews, Length: 88, dtype: int64"
      ]
     },
     "execution_count": 88,
     "metadata": {},
     "output_type": "execute_result"
    }
   ],
   "source": [
    "df['DinnerReviews'].value_counts()"
   ]
  },
  {
   "cell_type": "code",
   "execution_count": 89,
   "metadata": {},
   "outputs": [
    {
     "data": {
      "text/plain": [
       "<AxesSubplot:xlabel='DeliveryReviews'>"
      ]
     },
     "execution_count": 89,
     "metadata": {},
     "output_type": "execute_result"
    },
    {
     "data": {
      "image/png": "[encoded data removed]",
      "text/plain": [
       "<Figure size 432x288 with 1 Axes>"
      ]
     },
     "metadata": {
      "needs_background": "light"
     },
     "output_type": "display_data"
    }
   ],
   "source": [
    "sns.boxplot(x=df['DeliveryReviews'])"
   ]
  },
  {
   "cell_type": "code",
   "execution_count": 90,
   "metadata": {},
   "outputs": [
    {
     "data": {
      "text/plain": [
       "(3510, 3)"
      ]
     },
     "execution_count": 90,
     "metadata": {},
     "output_type": "execute_result"
    }
   ],
   "source": [
    "df_num =  df[['DinnerReviews','DeliveryReviews','AverageCost']]\n",
    "\n",
    "df_num.shape"
   ]
  },
  {
   "cell_type": "code",
   "execution_count": 91,
   "metadata": {},
   "outputs": [],
   "source": [
    "Q1 = df_num.quantile(0.25)\n",
    "Q3 = df_num.quantile(0.75)\n",
    "IQR = Q3 - Q1\n",
    "lower_bound = Q1 - 1.5 * IQR\n",
    "upper_bound = Q3 + 1.5 * IQR"
   ]
  },
  {
   "cell_type": "code",
   "execution_count": 93,
   "metadata": {},
   "outputs": [
    {
     "data": {
      "text/plain": [
       "DinnerReviews      -17.625\n",
       "DeliveryReviews   -811.000\n",
       "AverageCost       -225.000\n",
       "dtype: float64"
      ]
     },
     "execution_count": 93,
     "metadata": {},
     "output_type": "execute_result"
    }
   ],
   "source": [
    "lower_bound"
   ]
  },
  {
   "cell_type": "code",
   "execution_count": 94,
   "metadata": {},
   "outputs": [
    {
     "data": {
      "text/plain": [
       "DinnerReviews        29.375\n",
       "DeliveryReviews    1453.000\n",
       "AverageCost         775.000\n",
       "dtype: float64"
      ]
     },
     "execution_count": 94,
     "metadata": {},
     "output_type": "execute_result"
    }
   ],
   "source": [
    "upper_bound"
   ]
  },
  {
   "cell_type": "code",
   "execution_count": 43,
   "metadata": {},
   "outputs": [],
   "source": [
    "df = df[~((df_num < lower_bound) | (df_num > upper_bound)).any(axis=1)]"
   ]
  },
  {
   "cell_type": "code",
   "execution_count": 44,
   "metadata": {},
   "outputs": [
    {
     "data": {
      "text/plain": [
       "(2840, 12)"
      ]
     },
     "execution_count": 44,
     "metadata": {},
     "output_type": "execute_result"
    }
   ],
   "source": [
    "df.shape"
   ]
  },
  {
   "cell_type": "code",
   "execution_count": 45,
   "metadata": {},
   "outputs": [
    {
     "data": {
      "text/plain": [
       "<AxesSubplot:xlabel='DeliveryReviews'>"
      ]
     },
     "execution_count": 45,
     "metadata": {},
     "output_type": "execute_result"
    },
    {
     "data": {
      "image/png": "[encoded data removed]",
      "text/plain": [
       "<Figure size 432x288 with 1 Axes>"
      ]
     },
     "metadata": {
      "needs_background": "light"
     },
     "output_type": "display_data"
    }
   ],
   "source": [
    "sns.boxplot(x=df['DeliveryReviews'])"
   ]
  },
  {
   "cell_type": "code",
   "execution_count": 46,
   "metadata": {},
   "outputs": [
    {
     "data": {
      "text/html": [
       "<div>\n",
       "<style scoped>\n",
       "    .dataframe tbody tr th:only-of-type {\n",
       "        vertical-align: middle;\n",
       "    }\n",
       "\n",
       "    .dataframe tbody tr th {\n",
       "        vertical-align: top;\n",
       "    }\n",
       "\n",
       "    .dataframe thead th {\n",
       "        text-align: right;\n",
       "    }\n",
       "</style>\n",
       "<table border=\"1\" class=\"dataframe\">\n",
       "  <thead>\n",
       "    <tr style=\"text-align: right;\">\n",
       "      <th></th>\n",
       "      <th>Name</th>\n",
       "      <th>Cuisines</th>\n",
       "      <th>Area</th>\n",
       "      <th>Timing</th>\n",
       "      <th>IsHomeDelivery</th>\n",
       "      <th>isTakeaway</th>\n",
       "      <th>isIndoorSeating</th>\n",
       "      <th>DinnerRatings</th>\n",
       "      <th>DinnerReviews</th>\n",
       "      <th>DeliveryRatings</th>\n",
       "      <th>AverageCost</th>\n",
       "    </tr>\n",
       "  </thead>\n",
       "  <tbody>\n",
       "    <tr>\n",
       "      <th>21</th>\n",
       "      <td>Punjabi Dhaba</td>\n",
       "      <td>North Indian, Mughlai, Chinese</td>\n",
       "      <td>Indiranagar, Bangalore</td>\n",
       "      <td>24 Hours (Today)</td>\n",
       "      <td>1</td>\n",
       "      <td>1</td>\n",
       "      <td>1</td>\n",
       "      <td>3.80</td>\n",
       "      <td>6.0</td>\n",
       "      <td>3.40</td>\n",
       "      <td>500.0</td>\n",
       "    </tr>\n",
       "    <tr>\n",
       "      <th>34</th>\n",
       "      <td>Kanti Sweets</td>\n",
       "      <td>Mithai, Street Food, Desserts</td>\n",
       "      <td>Thippasandra, Bangalore</td>\n",
       "      <td>9am â€“ 9:30pm (Today)</td>\n",
       "      <td>1</td>\n",
       "      <td>1</td>\n",
       "      <td>0</td>\n",
       "      <td>-</td>\n",
       "      <td>0.0</td>\n",
       "      <td>4.10</td>\n",
       "      <td>50.0</td>\n",
       "    </tr>\n",
       "    <tr>\n",
       "      <th>36</th>\n",
       "      <td>Five Star Chicken</td>\n",
       "      <td>Wraps, Burger, Rolls, Fast Food, Street Food</td>\n",
       "      <td>KR Puram, Bangalore</td>\n",
       "      <td>11am â€“ 11pm (Today)</td>\n",
       "      <td>1</td>\n",
       "      <td>1</td>\n",
       "      <td>0</td>\n",
       "      <td>-</td>\n",
       "      <td>0.0</td>\n",
       "      <td>3.90</td>\n",
       "      <td>100.0</td>\n",
       "    </tr>\n",
       "    <tr>\n",
       "      <th>38</th>\n",
       "      <td>Donne Biriyani House</td>\n",
       "      <td>Biryani, Fast Food</td>\n",
       "      <td>Shanti Nagar, Bangalore</td>\n",
       "      <td>Opens at 6:30pm</td>\n",
       "      <td>1</td>\n",
       "      <td>1</td>\n",
       "      <td>1</td>\n",
       "      <td>3.40</td>\n",
       "      <td>7.0</td>\n",
       "      <td>3.90</td>\n",
       "      <td>400.0</td>\n",
       "    </tr>\n",
       "    <tr>\n",
       "      <th>51</th>\n",
       "      <td>Amma's Pastries</td>\n",
       "      <td>Bakery</td>\n",
       "      <td>Indiranagar, Bangalore</td>\n",
       "      <td>8am â€“ 10pm (Today)</td>\n",
       "      <td>1</td>\n",
       "      <td>1</td>\n",
       "      <td>0</td>\n",
       "      <td>-</td>\n",
       "      <td>0.0</td>\n",
       "      <td>4.40</td>\n",
       "      <td>100.0</td>\n",
       "    </tr>\n",
       "  </tbody>\n",
       "</table>\n",
       "</div>"
      ],
      "text/plain": [
       "                    Name                                      Cuisines  \\\n",
       "21         Punjabi Dhaba                North Indian, Mughlai, Chinese   \n",
       "34          Kanti Sweets                 Mithai, Street Food, Desserts   \n",
       "36     Five Star Chicken  Wraps, Burger, Rolls, Fast Food, Street Food   \n",
       "38  Donne Biriyani House                            Biryani, Fast Food   \n",
       "51       Amma's Pastries                                        Bakery   \n",
       "\n",
       "                       Area                  Timing  IsHomeDelivery  \\\n",
       "21   Indiranagar, Bangalore        24 Hours (Today)               1   \n",
       "34  Thippasandra, Bangalore  9am â€“ 9:30pm (Today)               1   \n",
       "36      KR Puram, Bangalore   11am â€“ 11pm (Today)               1   \n",
       "38  Shanti Nagar, Bangalore         Opens at 6:30pm               1   \n",
       "51   Indiranagar, Bangalore    8am â€“ 10pm (Today)               1   \n",
       "\n",
       "    isTakeaway  isIndoorSeating DinnerRatings  DinnerReviews DeliveryRatings  \\\n",
       "21           1                1          3.80            6.0            3.40   \n",
       "34           1                0             -            0.0            4.10   \n",
       "36           1                0             -            0.0            3.90   \n",
       "38           1                1          3.40            7.0            3.90   \n",
       "51           1                0             -            0.0            4.40   \n",
       "\n",
       "    AverageCost  \n",
       "21        500.0  \n",
       "34         50.0  \n",
       "36        100.0  \n",
       "38        400.0  \n",
       "51        100.0  "
      ]
     },
     "execution_count": 46,
     "metadata": {},
     "output_type": "execute_result"
    }
   ],
   "source": [
    "X = df.drop('DeliveryReviews', axis=1)\n",
    "y = df.DeliveryReviews\n",
    "X.head()"
   ]
  },
  {
   "cell_type": "code",
   "execution_count": 47,
   "metadata": {},
   "outputs": [
    {
     "data": {
      "text/html": [
       "<div>\n",
       "<style scoped>\n",
       "    .dataframe tbody tr th:only-of-type {\n",
       "        vertical-align: middle;\n",
       "    }\n",
       "\n",
       "    .dataframe tbody tr th {\n",
       "        vertical-align: top;\n",
       "    }\n",
       "\n",
       "    .dataframe thead th {\n",
       "        text-align: right;\n",
       "    }\n",
       "</style>\n",
       "<table border=\"1\" class=\"dataframe\">\n",
       "  <thead>\n",
       "    <tr style=\"text-align: right;\">\n",
       "      <th></th>\n",
       "      <th>Name</th>\n",
       "      <th>Cuisines</th>\n",
       "      <th>Area</th>\n",
       "      <th>Timing</th>\n",
       "      <th>IsHomeDelivery</th>\n",
       "      <th>isTakeaway</th>\n",
       "      <th>isIndoorSeating</th>\n",
       "      <th>DinnerRatings</th>\n",
       "      <th>DinnerReviews</th>\n",
       "      <th>DeliveryRatings</th>\n",
       "      <th>AverageCost</th>\n",
       "    </tr>\n",
       "  </thead>\n",
       "  <tbody>\n",
       "    <tr>\n",
       "      <th>21</th>\n",
       "      <td>Punjabi Dhaba</td>\n",
       "      <td>North Indian, Mughlai, Chinese</td>\n",
       "      <td>Indiranagar, Bangalore</td>\n",
       "      <td>24 Hours (Today)</td>\n",
       "      <td>1</td>\n",
       "      <td>1</td>\n",
       "      <td>1</td>\n",
       "      <td>3.80</td>\n",
       "      <td>6.0</td>\n",
       "      <td>3.40</td>\n",
       "      <td>500.0</td>\n",
       "    </tr>\n",
       "    <tr>\n",
       "      <th>34</th>\n",
       "      <td>Kanti Sweets</td>\n",
       "      <td>Mithai, Street Food, Desserts</td>\n",
       "      <td>Thippasandra, Bangalore</td>\n",
       "      <td>9am â€“ 9:30pm (Today)</td>\n",
       "      <td>1</td>\n",
       "      <td>1</td>\n",
       "      <td>0</td>\n",
       "      <td>-</td>\n",
       "      <td>0.0</td>\n",
       "      <td>4.10</td>\n",
       "      <td>50.0</td>\n",
       "    </tr>\n",
       "    <tr>\n",
       "      <th>36</th>\n",
       "      <td>Five Star Chicken</td>\n",
       "      <td>Wraps, Burger, Rolls, Fast Food, Street Food</td>\n",
       "      <td>KR Puram, Bangalore</td>\n",
       "      <td>11am â€“ 11pm (Today)</td>\n",
       "      <td>1</td>\n",
       "      <td>1</td>\n",
       "      <td>0</td>\n",
       "      <td>-</td>\n",
       "      <td>0.0</td>\n",
       "      <td>3.90</td>\n",
       "      <td>100.0</td>\n",
       "    </tr>\n",
       "    <tr>\n",
       "      <th>38</th>\n",
       "      <td>Donne Biriyani House</td>\n",
       "      <td>Biryani, Fast Food</td>\n",
       "      <td>Shanti Nagar, Bangalore</td>\n",
       "      <td>Opens at 6:30pm</td>\n",
       "      <td>1</td>\n",
       "      <td>1</td>\n",
       "      <td>1</td>\n",
       "      <td>3.40</td>\n",
       "      <td>7.0</td>\n",
       "      <td>3.90</td>\n",
       "      <td>400.0</td>\n",
       "    </tr>\n",
       "    <tr>\n",
       "      <th>51</th>\n",
       "      <td>Amma's Pastries</td>\n",
       "      <td>Bakery</td>\n",
       "      <td>Indiranagar, Bangalore</td>\n",
       "      <td>8am â€“ 10pm (Today)</td>\n",
       "      <td>1</td>\n",
       "      <td>1</td>\n",
       "      <td>0</td>\n",
       "      <td>-</td>\n",
       "      <td>0.0</td>\n",
       "      <td>4.40</td>\n",
       "      <td>100.0</td>\n",
       "    </tr>\n",
       "  </tbody>\n",
       "</table>\n",
       "</div>"
      ],
      "text/plain": [
       "                    Name                                      Cuisines  \\\n",
       "21         Punjabi Dhaba                North Indian, Mughlai, Chinese   \n",
       "34          Kanti Sweets                 Mithai, Street Food, Desserts   \n",
       "36     Five Star Chicken  Wraps, Burger, Rolls, Fast Food, Street Food   \n",
       "38  Donne Biriyani House                            Biryani, Fast Food   \n",
       "51       Amma's Pastries                                        Bakery   \n",
       "\n",
       "                       Area                  Timing  IsHomeDelivery  \\\n",
       "21   Indiranagar, Bangalore        24 Hours (Today)               1   \n",
       "34  Thippasandra, Bangalore  9am â€“ 9:30pm (Today)               1   \n",
       "36      KR Puram, Bangalore   11am â€“ 11pm (Today)               1   \n",
       "38  Shanti Nagar, Bangalore         Opens at 6:30pm               1   \n",
       "51   Indiranagar, Bangalore    8am â€“ 10pm (Today)               1   \n",
       "\n",
       "    isTakeaway  isIndoorSeating DinnerRatings  DinnerReviews DeliveryRatings  \\\n",
       "21           1                1          3.80            6.0            3.40   \n",
       "34           1                0             -            0.0            4.10   \n",
       "36           1                0             -            0.0            3.90   \n",
       "38           1                1          3.40            7.0            3.90   \n",
       "51           1                0             -            0.0            4.40   \n",
       "\n",
       "    AverageCost  \n",
       "21        500.0  \n",
       "34         50.0  \n",
       "36        100.0  \n",
       "38        400.0  \n",
       "51        100.0  "
      ]
     },
     "execution_count": 47,
     "metadata": {},
     "output_type": "execute_result"
    }
   ],
   "source": [
    "X.head()"
   ]
  },
  {
   "cell_type": "code",
   "execution_count": 95,
   "metadata": {},
   "outputs": [
    {
     "data": {
      "text/plain": [
       "0.0     1550\n",
       "1.0      253\n",
       "2.0      140\n",
       "3.0      108\n",
       "4.0       72\n",
       "6.0       69\n",
       "5.0       66\n",
       "7.0       58\n",
       "9.0       46\n",
       "8.0       43\n",
       "10.0      41\n",
       "12.0      37\n",
       "11.0      32\n",
       "14.0      29\n",
       "16.0      27\n",
       "13.0      25\n",
       "23.0      24\n",
       "19.0      22\n",
       "24.0      21\n",
       "18.0      21\n",
       "17.0      19\n",
       "21.0      18\n",
       "15.0      17\n",
       "28.0      16\n",
       "25.0      15\n",
       "27.0      15\n",
       "20.0      14\n",
       "26.0      14\n",
       "22.0      14\n",
       "29.0      14\n",
       "Name: DinnerReviews, dtype: int64"
      ]
     },
     "execution_count": 95,
     "metadata": {},
     "output_type": "execute_result"
    }
   ],
   "source": [
    "X['DinnerReviews'].value_counts()"
   ]
  },
  {
   "cell_type": "code",
   "execution_count": 96,
   "metadata": {},
   "outputs": [
    {
     "ename": "KeyError",
     "evalue": "\"['DeliveryReviews'] not in index\"",
     "output_type": "error",
     "traceback": [
      "\u001b[1;31m---------------------------------------------------------------------------\u001b[0m",
      "\u001b[1;31mKeyError\u001b[0m                                  Traceback (most recent call last)",
      "\u001b[1;32m<ipython-input-96-853a40e22bf1>\u001b[0m in \u001b[0;36m<module>\u001b[1;34m\u001b[0m\n\u001b[1;32m----> 1\u001b[1;33m \u001b[0mX_num\u001b[0m \u001b[1;33m=\u001b[0m \u001b[0mX\u001b[0m\u001b[1;33m[\u001b[0m\u001b[1;33m[\u001b[0m\u001b[1;34m'DinnerReviews'\u001b[0m\u001b[1;33m,\u001b[0m\u001b[1;34m'DeliveryReviews'\u001b[0m\u001b[1;33m,\u001b[0m\u001b[1;34m'AverageCost'\u001b[0m\u001b[1;33m]\u001b[0m\u001b[1;33m]\u001b[0m\u001b[1;33m\u001b[0m\u001b[1;33m\u001b[0m\u001b[0m\n\u001b[0m\u001b[0;32m      2\u001b[0m \u001b[0mX_num\u001b[0m\u001b[1;33m.\u001b[0m\u001b[0mhead\u001b[0m\u001b[1;33m(\u001b[0m\u001b[1;33m)\u001b[0m\u001b[1;33m\u001b[0m\u001b[1;33m\u001b[0m\u001b[0m\n",
      "\u001b[1;32m~\\Anaconda3\\lib\\site-packages\\pandas\\core\\frame.py\u001b[0m in \u001b[0;36m__getitem__\u001b[1;34m(self, key)\u001b[0m\n\u001b[0;32m   3462\u001b[0m             \u001b[1;32mif\u001b[0m \u001b[0mis_iterator\u001b[0m\u001b[1;33m(\u001b[0m\u001b[0mkey\u001b[0m\u001b[1;33m)\u001b[0m\u001b[1;33m:\u001b[0m\u001b[1;33m\u001b[0m\u001b[1;33m\u001b[0m\u001b[0m\n\u001b[0;32m   3463\u001b[0m                 \u001b[0mkey\u001b[0m \u001b[1;33m=\u001b[0m \u001b[0mlist\u001b[0m\u001b[1;33m(\u001b[0m\u001b[0mkey\u001b[0m\u001b[1;33m)\u001b[0m\u001b[1;33m\u001b[0m\u001b[1;33m\u001b[0m\u001b[0m\n\u001b[1;32m-> 3464\u001b[1;33m             \u001b[0mindexer\u001b[0m \u001b[1;33m=\u001b[0m \u001b[0mself\u001b[0m\u001b[1;33m.\u001b[0m\u001b[0mloc\u001b[0m\u001b[1;33m.\u001b[0m\u001b[0m_get_listlike_indexer\u001b[0m\u001b[1;33m(\u001b[0m\u001b[0mkey\u001b[0m\u001b[1;33m,\u001b[0m \u001b[0maxis\u001b[0m\u001b[1;33m=\u001b[0m\u001b[1;36m1\u001b[0m\u001b[1;33m)\u001b[0m\u001b[1;33m[\u001b[0m\u001b[1;36m1\u001b[0m\u001b[1;33m]\u001b[0m\u001b[1;33m\u001b[0m\u001b[1;33m\u001b[0m\u001b[0m\n\u001b[0m\u001b[0;32m   3465\u001b[0m \u001b[1;33m\u001b[0m\u001b[0m\n\u001b[0;32m   3466\u001b[0m         \u001b[1;31m# take() does not accept boolean indexers\u001b[0m\u001b[1;33m\u001b[0m\u001b[1;33m\u001b[0m\u001b[1;33m\u001b[0m\u001b[0m\n",
      "\u001b[1;32m~\\Anaconda3\\lib\\site-packages\\pandas\\core\\indexing.py\u001b[0m in \u001b[0;36m_get_listlike_indexer\u001b[1;34m(self, key, axis)\u001b[0m\n\u001b[0;32m   1312\u001b[0m             \u001b[0mkeyarr\u001b[0m\u001b[1;33m,\u001b[0m \u001b[0mindexer\u001b[0m\u001b[1;33m,\u001b[0m \u001b[0mnew_indexer\u001b[0m \u001b[1;33m=\u001b[0m \u001b[0max\u001b[0m\u001b[1;33m.\u001b[0m\u001b[0m_reindex_non_unique\u001b[0m\u001b[1;33m(\u001b[0m\u001b[0mkeyarr\u001b[0m\u001b[1;33m)\u001b[0m\u001b[1;33m\u001b[0m\u001b[1;33m\u001b[0m\u001b[0m\n\u001b[0;32m   1313\u001b[0m \u001b[1;33m\u001b[0m\u001b[0m\n\u001b[1;32m-> 1314\u001b[1;33m         \u001b[0mself\u001b[0m\u001b[1;33m.\u001b[0m\u001b[0m_validate_read_indexer\u001b[0m\u001b[1;33m(\u001b[0m\u001b[0mkeyarr\u001b[0m\u001b[1;33m,\u001b[0m \u001b[0mindexer\u001b[0m\u001b[1;33m,\u001b[0m \u001b[0maxis\u001b[0m\u001b[1;33m)\u001b[0m\u001b[1;33m\u001b[0m\u001b[1;33m\u001b[0m\u001b[0m\n\u001b[0m\u001b[0;32m   1315\u001b[0m \u001b[1;33m\u001b[0m\u001b[0m\n\u001b[0;32m   1316\u001b[0m         if needs_i8_conversion(ax.dtype) or isinstance(\n",
      "\u001b[1;32m~\\Anaconda3\\lib\\site-packages\\pandas\\core\\indexing.py\u001b[0m in \u001b[0;36m_validate_read_indexer\u001b[1;34m(self, key, indexer, axis)\u001b[0m\n\u001b[0;32m   1375\u001b[0m \u001b[1;33m\u001b[0m\u001b[0m\n\u001b[0;32m   1376\u001b[0m             \u001b[0mnot_found\u001b[0m \u001b[1;33m=\u001b[0m \u001b[0mlist\u001b[0m\u001b[1;33m(\u001b[0m\u001b[0mensure_index\u001b[0m\u001b[1;33m(\u001b[0m\u001b[0mkey\u001b[0m\u001b[1;33m)\u001b[0m\u001b[1;33m[\u001b[0m\u001b[0mmissing_mask\u001b[0m\u001b[1;33m.\u001b[0m\u001b[0mnonzero\u001b[0m\u001b[1;33m(\u001b[0m\u001b[1;33m)\u001b[0m\u001b[1;33m[\u001b[0m\u001b[1;36m0\u001b[0m\u001b[1;33m]\u001b[0m\u001b[1;33m]\u001b[0m\u001b[1;33m.\u001b[0m\u001b[0munique\u001b[0m\u001b[1;33m(\u001b[0m\u001b[1;33m)\u001b[0m\u001b[1;33m)\u001b[0m\u001b[1;33m\u001b[0m\u001b[1;33m\u001b[0m\u001b[0m\n\u001b[1;32m-> 1377\u001b[1;33m             \u001b[1;32mraise\u001b[0m \u001b[0mKeyError\u001b[0m\u001b[1;33m(\u001b[0m\u001b[1;34mf\"{not_found} not in index\"\u001b[0m\u001b[1;33m)\u001b[0m\u001b[1;33m\u001b[0m\u001b[1;33m\u001b[0m\u001b[0m\n\u001b[0m\u001b[0;32m   1378\u001b[0m \u001b[1;33m\u001b[0m\u001b[0m\n\u001b[0;32m   1379\u001b[0m \u001b[1;33m\u001b[0m\u001b[0m\n",
      "\u001b[1;31mKeyError\u001b[0m: \"['DeliveryReviews'] not in index\""
     ]
    }
   ],
   "source": [
    "X_num = X[['DinnerReviews','DeliveryReviews','AverageCost']]\n",
    "X_num.head()"
   ]
  },
  {
   "cell_type": "code",
   "execution_count": null,
   "metadata": {},
   "outputs": [],
   "source": [
    "X_cat = X.select_dtypes('object')\n",
    "X_cat.head()"
   ]
  },
  {
   "cell_type": "code",
   "execution_count": null,
   "metadata": {},
   "outputs": [],
   "source": [
    "# Step 4: Rescale numeric columns (optional, based on the algorithm used)\n",
    "scaler = MinMaxScaler()\n",
    "X_num_scaled = scaler.fit_transform(X_num)"
   ]
  },
  {
   "cell_type": "code",
   "execution_count": null,
   "metadata": {},
   "outputs": [],
   "source": [
    "type(X_num_scaled)"
   ]
  },
  {
   "cell_type": "code",
   "execution_count": null,
   "metadata": {},
   "outputs": [],
   "source": [
    "\n",
    "X_num_scaled = pd.DataFrame(X_num_scaled, columns=X_num.columns, index=X_num.index)"
   ]
  },
  {
   "cell_type": "code",
   "execution_count": null,
   "metadata": {
    "scrolled": false
   },
   "outputs": [],
   "source": [
    "X_num_scaled.describe()"
   ]
  },
  {
   "cell_type": "code",
   "execution_count": null,
   "metadata": {},
   "outputs": [],
   "source": [
    "# alt way of achieving the same result as the previous cell. here we create a copy of X_num and overwrite it with scaled values\n",
    "# what is happening is the index i.e. row IDs are retained implicitly versus in the above cell we are handling that explicitly.\n",
    "\n",
    "#X_num_scaled = X_num.copy()\n",
    "#scaler = MinMaxScaler()\n",
    "#X_num_scaled[X_num.columns] = scaler.fit_transform(X_num)"
   ]
  },
  {
   "cell_type": "code",
   "execution_count": null,
   "metadata": {},
   "outputs": [],
   "source": [
    "# Step 5: One-hot encode category columns\n",
    "X_cat_encoded = pd.get_dummies(X_cat, drop_first=False, dtype=int)  # Drop_first to avoid multicollinearity"
   ]
  },
  {
   "cell_type": "code",
   "execution_count": null,
   "metadata": {},
   "outputs": [],
   "source": [
    "# Step 6: Merge df_num and df_cat_encoded into X\n",
    "X = pd.concat([X_num_scaled, X_cat_encoded], axis=1)"
   ]
  },
  {
   "cell_type": "code",
   "execution_count": null,
   "metadata": {},
   "outputs": [],
   "source": [
    " X.shape, X_num_scaled.shape, X_cat_encoded.shape"
   ]
  },
  {
   "cell_type": "code",
   "execution_count": null,
   "metadata": {
    "scrolled": true
   },
   "outputs": [],
   "source": [
    " X_num_scaled.shape"
   ]
  },
  {
   "cell_type": "code",
   "execution_count": null,
   "metadata": {},
   "outputs": [],
   "source": [
    "X_cat_encoded"
   ]
  },
  {
   "cell_type": "code",
   "execution_count": null,
   "metadata": {},
   "outputs": [],
   "source": [
    "# Step 7: Check for NA in X and y; Check for shape compatibility\n",
    "print(\"\\nStep 7: Checking for NAs and Shape Compatibility\")\n",
    "print(X.isnull().sum())\n",
    "print(y.isnull().sum())\n",
    "print(X.shape)\n",
    "print(y.shape)"
   ]
  },
  {
   "cell_type": "code",
   "execution_count": null,
   "metadata": {
    "scrolled": true
   },
   "outputs": [],
   "source": [
    "X.describe()"
   ]
  },
  {
   "cell_type": "code",
   "execution_count": null,
   "metadata": {},
   "outputs": [],
   "source": [
    "# Step 8: Train-test split\n",
    "X_train, X_test, y_train, y_test = train_test_split(X, y, test_size=0.2, random_state=42)"
   ]
  },
  {
   "cell_type": "code",
   "execution_count": null,
   "metadata": {},
   "outputs": [],
   "source": [
    "print(X_train.shape)\n",
    "print(X_test.shape)\n",
    "print(y_train.shape) \n",
    "print(y_test.shape)"
   ]
  },
  {
   "cell_type": "code",
   "execution_count": null,
   "metadata": {},
   "outputs": [],
   "source": [
    "# Step 9: Observations after preprocessing\n",
    "# - ID columns have been removed.\n",
    "# - Rows with missing values have been removed.\n",
    "# - Numeric and categorical features have been separated into X and y, respectively.\n",
    "# - Numeric columns have been rescaled (if required, this step is optional based on the algorithm used).\n",
    "# - Category columns have been one-hot encoded to be used in the model.\n",
    "# - The dataset has been split into train and test sets for model evaluation."
   ]
  },
  {
   "cell_type": "markdown",
   "metadata": {},
   "source": [
    "# we are ready to fit ML models to train and evaluate using test"
   ]
  },
  {
   "cell_type": "code",
   "execution_count": null,
   "metadata": {},
   "outputs": [],
   "source": [
    "X.to_csv('insurance_claim_features.csv', index=False)\n",
    "y.to_csv('insurance_claim_label.csv',index=False)"
   ]
  },
  {
   "cell_type": "code",
   "execution_count": null,
   "metadata": {},
   "outputs": [],
   "source": []
  }
 ],
 "metadata": {
  "kernelspec": {
   "display_name": "Python 3",
   "language": "python",
   "name": "python3"
  },
  "language_info": {
   "codemirror_mode": {
    "name": "ipython",
    "version": 3
   },
   "file_extension": ".py",
   "mimetype": "text/x-python",
   "name": "python",
   "nbconvert_exporter": "python",
   "pygments_lexer": "ipython3",
   "version": "3.7.3"
  }
 },
 "nbformat": 4,
 "nbformat_minor": 5
}
